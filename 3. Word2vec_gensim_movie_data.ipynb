{
 "cells": [
  {
   "cell_type": "markdown",
   "metadata": {
    "id": "C2WAFZueaivk"
   },
   "source": [
    "### Load Gensim Library"
   ]
  },
  {
   "cell_type": "code",
   "execution_count": 1,
   "metadata": {
    "colab": {
     "base_uri": "https://localhost:8080/"
    },
    "executionInfo": {
     "elapsed": 2876,
     "status": "ok",
     "timestamp": 1623565800763,
     "user": {
      "displayName": "Sayan Dey",
      "photoUrl": "https://lh3.googleusercontent.com/a-/AOh14GgqVHJ9o6-7idGiRbNNd4iVc1VjzvuPnwmAnvEtD6U=s64",
      "userId": "03603580465490055794"
     },
     "user_tz": -330
    },
    "id": "WWg3i_ryddsA",
    "outputId": "7d61387c-3250-461a-d887-ce38227bf464"
   },
   "outputs": [
    {
     "name": "stdout",
     "output_type": "stream",
     "text": [
      "Requirement already satisfied: gensim in c:\\users\\sayan\\anaconda3\\lib\\site-packages (4.0.1)\n",
      "Requirement already satisfied: numpy>=1.11.3 in c:\\users\\sayan\\anaconda3\\lib\\site-packages (from gensim) (1.19.2)\n",
      "Requirement already satisfied: smart-open>=1.8.1 in c:\\users\\sayan\\anaconda3\\lib\\site-packages (from gensim) (2.2.1)\n",
      "Requirement already satisfied: scipy>=0.18.1 in c:\\users\\sayan\\anaconda3\\lib\\site-packages (from gensim) (1.5.2)\n",
      "Requirement already satisfied: Cython==0.29.21 in c:\\users\\sayan\\anaconda3\\lib\\site-packages (from gensim) (0.29.21)\n",
      "Requirement already satisfied: boto3 in c:\\users\\sayan\\anaconda3\\lib\\site-packages (from smart-open>=1.8.1->gensim) (1.17.48)\n",
      "Requirement already satisfied: requests in c:\\users\\sayan\\anaconda3\\lib\\site-packages (from smart-open>=1.8.1->gensim) (2.24.0)\n",
      "Requirement already satisfied: jmespath<1.0.0,>=0.7.1 in c:\\users\\sayan\\anaconda3\\lib\\site-packages (from boto3->smart-open>=1.8.1->gensim) (0.10.0)\n",
      "Requirement already satisfied: s3transfer<0.4.0,>=0.3.0 in c:\\users\\sayan\\anaconda3\\lib\\site-packages (from boto3->smart-open>=1.8.1->gensim) (0.3.6)\n",
      "Requirement already satisfied: botocore<1.21.0,>=1.20.48 in c:\\users\\sayan\\anaconda3\\lib\\site-packages (from boto3->smart-open>=1.8.1->gensim) (1.20.48)\n",
      "Requirement already satisfied: chardet<4,>=3.0.2 in c:\\users\\sayan\\anaconda3\\lib\\site-packages (from requests->smart-open>=1.8.1->gensim) (3.0.4)\n",
      "Requirement already satisfied: urllib3!=1.25.0,!=1.25.1,<1.26,>=1.21.1 in c:\\users\\sayan\\anaconda3\\lib\\site-packages (from requests->smart-open>=1.8.1->gensim) (1.25.11)\n",
      "Requirement already satisfied: idna<3,>=2.5 in c:\\users\\sayan\\anaconda3\\lib\\site-packages (from requests->smart-open>=1.8.1->gensim) (2.10)\n",
      "Requirement already satisfied: certifi>=2017.4.17 in c:\\users\\sayan\\anaconda3\\lib\\site-packages (from requests->smart-open>=1.8.1->gensim) (2020.6.20)\n",
      "Requirement already satisfied: python-dateutil<3.0.0,>=2.1 in c:\\users\\sayan\\anaconda3\\lib\\site-packages (from botocore<1.21.0,>=1.20.48->boto3->smart-open>=1.8.1->gensim) (2.8.1)\n",
      "Requirement already satisfied: six>=1.5 in c:\\users\\sayan\\anaconda3\\lib\\site-packages (from python-dateutil<3.0.0,>=2.1->botocore<1.21.0,>=1.20.48->boto3->smart-open>=1.8.1->gensim) (1.15.0)\n"
     ]
    }
   ],
   "source": [
    "#!pip install gensim"
   ]
  },
  {
   "cell_type": "code",
   "execution_count": 17,
   "metadata": {
    "executionInfo": {
     "elapsed": 719,
     "status": "ok",
     "timestamp": 1623565801479,
     "user": {
      "displayName": "Sayan Dey",
      "photoUrl": "https://lh3.googleusercontent.com/a-/AOh14GgqVHJ9o6-7idGiRbNNd4iVc1VjzvuPnwmAnvEtD6U=s64",
      "userId": "03603580465490055794"
     },
     "user_tz": -330
    },
    "id": "iSrla7q8aivn"
   },
   "outputs": [],
   "source": [
    "import gensim\n",
    "import warnings\n",
    "warnings.filterwarnings('ignore')"
   ]
  },
  {
   "cell_type": "code",
   "execution_count": 18,
   "metadata": {
    "executionInfo": {
     "elapsed": 8,
     "status": "ok",
     "timestamp": 1623565801481,
     "user": {
      "displayName": "Sayan Dey",
      "photoUrl": "https://lh3.googleusercontent.com/a-/AOh14GgqVHJ9o6-7idGiRbNNd4iVc1VjzvuPnwmAnvEtD6U=s64",
      "userId": "03603580465490055794"
     },
     "user_tz": -330
    },
    "id": "D6HqQQL4aivq"
   },
   "outputs": [],
   "source": [
    "import logging\n",
    "logging.basicConfig(format='%(asctime)s : %(levelname)s : %(message)s', \n",
    "                    level=logging.INFO)"
   ]
  },
  {
   "cell_type": "markdown",
   "metadata": {
    "id": "rOTbE9ZPaivu"
   },
   "source": [
    "### Load Text Data\n",
    "\n",
    "Data can be downloaded from https://www.kaggle.com/c/word2vec-nlp-tutorial/data"
   ]
  },
  {
   "cell_type": "code",
   "execution_count": 19,
   "metadata": {
    "colab": {
     "base_uri": "https://localhost:8080/"
    },
    "executionInfo": {
     "elapsed": 19042,
     "status": "ok",
     "timestamp": 1623565825345,
     "user": {
      "displayName": "Sayan Dey",
      "photoUrl": "https://lh3.googleusercontent.com/a-/AOh14GgqVHJ9o6-7idGiRbNNd4iVc1VjzvuPnwmAnvEtD6U=s64",
      "userId": "03603580465490055794"
     },
     "user_tz": -330
    },
    "id": "oHi3q9cPKijF",
    "outputId": "93ef6f8f-6de9-4e15-d539-8cf57a897d7f"
   },
   "outputs": [
    {
     "ename": "ModuleNotFoundError",
     "evalue": "No module named 'google.colab'",
     "output_type": "error",
     "traceback": [
      "\u001b[1;31m---------------------------------------------------------------------------\u001b[0m",
      "\u001b[1;31mModuleNotFoundError\u001b[0m                       Traceback (most recent call last)",
      "\u001b[1;32m<ipython-input-19-70d3a6f21de0>\u001b[0m in \u001b[0;36m<module>\u001b[1;34m\u001b[0m\n\u001b[0;32m      1\u001b[0m \u001b[1;31m#This is needed only if you have uploaded data to Google drive\u001b[0m\u001b[1;33m\u001b[0m\u001b[1;33m\u001b[0m\u001b[1;33m\u001b[0m\u001b[0m\n\u001b[1;32m----> 2\u001b[1;33m \u001b[1;32mfrom\u001b[0m \u001b[0mgoogle\u001b[0m\u001b[1;33m.\u001b[0m\u001b[0mcolab\u001b[0m \u001b[1;32mimport\u001b[0m \u001b[0mdrive\u001b[0m\u001b[1;33m\u001b[0m\u001b[1;33m\u001b[0m\u001b[0m\n\u001b[0m\u001b[0;32m      3\u001b[0m \u001b[0mdrive\u001b[0m\u001b[1;33m.\u001b[0m\u001b[0mmount\u001b[0m\u001b[1;33m(\u001b[0m\u001b[1;34m'/gdrive'\u001b[0m\u001b[1;33m)\u001b[0m\u001b[1;33m\u001b[0m\u001b[1;33m\u001b[0m\u001b[0m\n",
      "\u001b[1;31mModuleNotFoundError\u001b[0m: No module named 'google.colab'"
     ]
    }
   ],
   "source": [
    "#This is needed only if you have uploaded data to Google drive\n",
    "from google.colab import drive\n",
    "drive.mount('/gdrive')"
   ]
  },
  {
   "cell_type": "code",
   "execution_count": null,
   "metadata": {
    "colab": {
     "base_uri": "https://localhost:8080/",
     "height": 222
    },
    "executionInfo": {
     "elapsed": 2961,
     "status": "ok",
     "timestamp": 1623565830148,
     "user": {
      "displayName": "Sayan Dey",
      "photoUrl": "https://lh3.googleusercontent.com/a-/AOh14GgqVHJ9o6-7idGiRbNNd4iVc1VjzvuPnwmAnvEtD6U=s64",
      "userId": "03603580465490055794"
     },
     "user_tz": -330
    },
    "id": "sxDRNQv9aivw",
    "outputId": "e57e0e0d-6230-48c0-fc6a-f1139cc7017a"
   },
   "outputs": [],
   "source": [
    "import pandas as pd\n",
    "\n",
    "#change file path to point to where you have stored the zip file.\n",
    "#df = pd.read_csv('/gdrive/My Drive/Statistical NLP AIML/unlabeledTrainData.tsv.zip', header=0, delimiter=\"\\t\", quoting=3)\n",
    "df = pd.read_csv('unlabeledTrainData.tsv.zip', header=0, delimiter=\"\\t\", quoting=3)\n",
    "print('Number of examples in Dataset: ', df.shape)\n",
    "df.head()"
   ]
  },
  {
   "cell_type": "markdown",
   "metadata": {
    "id": "j1DHNFNsaivy"
   },
   "source": [
    "### Function to Clean up data"
   ]
  },
  {
   "cell_type": "code",
   "execution_count": 20,
   "metadata": {
    "executionInfo": {
     "elapsed": 487,
     "status": "ok",
     "timestamp": 1623565858594,
     "user": {
      "displayName": "Sayan Dey",
      "photoUrl": "https://lh3.googleusercontent.com/a-/AOh14GgqVHJ9o6-7idGiRbNNd4iVc1VjzvuPnwmAnvEtD6U=s64",
      "userId": "03603580465490055794"
     },
     "user_tz": -330
    },
    "id": "PJf9rUeLaiv0"
   },
   "outputs": [],
   "source": [
    "import re, string\n",
    "\n",
    "def clean_str(string):\n",
    "  \"\"\"\n",
    "  String cleaning before vectorization\n",
    "  \"\"\"\n",
    "  try:    \n",
    "    string = re.sub(r'^https?:\\/\\/<>.*[\\r\\n]*', '', string, flags=re.MULTILINE)\n",
    "    string = re.sub(r\"[^A-Za-z]\", \" \", string)         \n",
    "    words = string.strip().lower().split()    \n",
    "    words = [w for w in words if len(w)>=1]\n",
    "    return \" \".join(words)\t\n",
    "  except:\n",
    "    return \"\""
   ]
  },
  {
   "cell_type": "markdown",
   "metadata": {
    "id": "ON-JT9fPaiv2"
   },
   "source": [
    "### Clean the Data using routine above"
   ]
  },
  {
   "cell_type": "code",
   "execution_count": 21,
   "metadata": {
    "colab": {
     "base_uri": "https://localhost:8080/",
     "height": 204
    },
    "executionInfo": {
     "elapsed": 5277,
     "status": "ok",
     "timestamp": 1623565864606,
     "user": {
      "displayName": "Sayan Dey",
      "photoUrl": "https://lh3.googleusercontent.com/a-/AOh14GgqVHJ9o6-7idGiRbNNd4iVc1VjzvuPnwmAnvEtD6U=s64",
      "userId": "03603580465490055794"
     },
     "user_tz": -330
    },
    "id": "iVOxnQg3aiv4",
    "outputId": "b02c145c-4355-42bf-80cc-fa37ccd3acaa",
    "scrolled": false
   },
   "outputs": [
    {
     "data": {
      "text/html": [
       "<div>\n",
       "<style scoped>\n",
       "    .dataframe tbody tr th:only-of-type {\n",
       "        vertical-align: middle;\n",
       "    }\n",
       "\n",
       "    .dataframe tbody tr th {\n",
       "        vertical-align: top;\n",
       "    }\n",
       "\n",
       "    .dataframe thead th {\n",
       "        text-align: right;\n",
       "    }\n",
       "</style>\n",
       "<table border=\"1\" class=\"dataframe\">\n",
       "  <thead>\n",
       "    <tr style=\"text-align: right;\">\n",
       "      <th></th>\n",
       "      <th>id</th>\n",
       "      <th>review</th>\n",
       "      <th>clean_review</th>\n",
       "    </tr>\n",
       "  </thead>\n",
       "  <tbody>\n",
       "    <tr>\n",
       "      <th>0</th>\n",
       "      <td>\"9999_0\"</td>\n",
       "      <td>\"Watching Time Chasers, it obvious that it was...</td>\n",
       "      <td>watching time chasers it obvious that it was m...</td>\n",
       "    </tr>\n",
       "    <tr>\n",
       "      <th>1</th>\n",
       "      <td>\"45057_0\"</td>\n",
       "      <td>\"I saw this film about 20 years ago and rememb...</td>\n",
       "      <td>i saw this film about years ago and remember i...</td>\n",
       "    </tr>\n",
       "    <tr>\n",
       "      <th>2</th>\n",
       "      <td>\"15561_0\"</td>\n",
       "      <td>\"Minor Spoilers&lt;br /&gt;&lt;br /&gt;In New York, Joan B...</td>\n",
       "      <td>minor spoilers br br in new york joan barnard ...</td>\n",
       "    </tr>\n",
       "    <tr>\n",
       "      <th>3</th>\n",
       "      <td>\"7161_0\"</td>\n",
       "      <td>\"I went to see this film with a great deal of ...</td>\n",
       "      <td>i went to see this film with a great deal of e...</td>\n",
       "    </tr>\n",
       "    <tr>\n",
       "      <th>4</th>\n",
       "      <td>\"43971_0\"</td>\n",
       "      <td>\"Yes, I agree with everyone on this site this ...</td>\n",
       "      <td>yes i agree with everyone on this site this mo...</td>\n",
       "    </tr>\n",
       "  </tbody>\n",
       "</table>\n",
       "</div>"
      ],
      "text/plain": [
       "          id                                             review  \\\n",
       "0   \"9999_0\"  \"Watching Time Chasers, it obvious that it was...   \n",
       "1  \"45057_0\"  \"I saw this film about 20 years ago and rememb...   \n",
       "2  \"15561_0\"  \"Minor Spoilers<br /><br />In New York, Joan B...   \n",
       "3   \"7161_0\"  \"I went to see this film with a great deal of ...   \n",
       "4  \"43971_0\"  \"Yes, I agree with everyone on this site this ...   \n",
       "\n",
       "                                        clean_review  \n",
       "0  watching time chasers it obvious that it was m...  \n",
       "1  i saw this film about years ago and remember i...  \n",
       "2  minor spoilers br br in new york joan barnard ...  \n",
       "3  i went to see this film with a great deal of e...  \n",
       "4  yes i agree with everyone on this site this mo...  "
      ]
     },
     "execution_count": 21,
     "metadata": {},
     "output_type": "execute_result"
    }
   ],
   "source": [
    "df['clean_review'] = df['review'].apply(clean_str)\n",
    "df.head()"
   ]
  },
  {
   "cell_type": "code",
   "execution_count": 22,
   "metadata": {
    "scrolled": true
   },
   "outputs": [
    {
     "data": {
      "text/plain": [
       "['watching',\n",
       " 'time',\n",
       " 'chasers',\n",
       " 'it',\n",
       " 'obvious',\n",
       " 'that',\n",
       " 'it',\n",
       " 'was',\n",
       " 'made',\n",
       " 'by',\n",
       " 'a',\n",
       " 'bunch',\n",
       " 'of',\n",
       " 'friends',\n",
       " 'maybe',\n",
       " 'they',\n",
       " 'were',\n",
       " 'sitting',\n",
       " 'around',\n",
       " 'one',\n",
       " 'day',\n",
       " 'in',\n",
       " 'film',\n",
       " 'school',\n",
       " 'and',\n",
       " 'said',\n",
       " 'hey',\n",
       " 'let',\n",
       " 's',\n",
       " 'pool',\n",
       " 'our',\n",
       " 'money',\n",
       " 'together',\n",
       " 'and',\n",
       " 'make',\n",
       " 'a',\n",
       " 'really',\n",
       " 'bad',\n",
       " 'movie',\n",
       " 'or',\n",
       " 'something',\n",
       " 'like',\n",
       " 'that',\n",
       " 'what',\n",
       " 'ever',\n",
       " 'they',\n",
       " 'said',\n",
       " 'they',\n",
       " 'still',\n",
       " 'ended',\n",
       " 'up',\n",
       " 'making',\n",
       " 'a',\n",
       " 'really',\n",
       " 'bad',\n",
       " 'movie',\n",
       " 'dull',\n",
       " 'story',\n",
       " 'bad',\n",
       " 'script',\n",
       " 'lame',\n",
       " 'acting',\n",
       " 'poor',\n",
       " 'cinematography',\n",
       " 'bottom',\n",
       " 'of',\n",
       " 'the',\n",
       " 'barrel',\n",
       " 'stock',\n",
       " 'music',\n",
       " 'etc',\n",
       " 'all',\n",
       " 'corners',\n",
       " 'were',\n",
       " 'cut',\n",
       " 'except',\n",
       " 'the',\n",
       " 'one',\n",
       " 'that',\n",
       " 'would',\n",
       " 'have',\n",
       " 'prevented',\n",
       " 'this',\n",
       " 'film',\n",
       " 's',\n",
       " 'release',\n",
       " 'life',\n",
       " 's',\n",
       " 'like',\n",
       " 'that']"
      ]
     },
     "execution_count": 22,
     "metadata": {},
     "output_type": "execute_result"
    }
   ],
   "source": [
    "df['clean_review'][0].split(' ')"
   ]
  },
  {
   "cell_type": "markdown",
   "metadata": {
    "id": "LJJyLx1Vaiv7"
   },
   "source": [
    "### Convert Review to a Word List"
   ]
  },
  {
   "cell_type": "code",
   "execution_count": 23,
   "metadata": {
    "colab": {
     "base_uri": "https://localhost:8080/"
    },
    "executionInfo": {
     "elapsed": 1190,
     "status": "ok",
     "timestamp": 1623565865782,
     "user": {
      "displayName": "Sayan Dey",
      "photoUrl": "https://lh3.googleusercontent.com/a-/AOh14GgqVHJ9o6-7idGiRbNNd4iVc1VjzvuPnwmAnvEtD6U=s64",
      "userId": "03603580465490055794"
     },
     "user_tz": -330
    },
    "id": "5jEV1hl0aiv8",
    "outputId": "bd85732e-2395-4694-e97f-3a1113d1ae47",
    "scrolled": true
   },
   "outputs": [
    {
     "name": "stdout",
     "output_type": "stream",
     "text": [
      "50000\n",
      "['watching', 'time', 'chasers', 'it', 'obvious', 'that', 'it', 'was', 'made', 'by', 'a', 'bunch', 'of', 'friends', 'maybe', 'they', 'were', 'sitting', 'around', 'one', 'day', 'in', 'film', 'school', 'and', 'said', 'hey', 'let', 's', 'pool', 'our', 'money', 'together', 'and', 'make', 'a', 'really', 'bad', 'movie', 'or', 'something', 'like', 'that', 'what', 'ever', 'they', 'said', 'they', 'still', 'ended', 'up', 'making', 'a', 'really', 'bad', 'movie', 'dull', 'story', 'bad', 'script', 'lame', 'acting', 'poor', 'cinematography', 'bottom', 'of', 'the', 'barrel', 'stock', 'music', 'etc', 'all', 'corners', 'were', 'cut', 'except', 'the', 'one', 'that', 'would', 'have', 'prevented', 'this', 'film', 's', 'release', 'life', 's', 'like', 'that']\n"
     ]
    }
   ],
   "source": [
    "#List to hold all words in each review\n",
    "documents = []\n",
    "\n",
    "#Iterate over each review\n",
    "for doc in df['clean_review']:\n",
    "    documents.append(doc.split(' '))\n",
    "\n",
    "print(len(documents))\n",
    "print(documents[0])"
   ]
  },
  {
   "cell_type": "code",
   "execution_count": 24,
   "metadata": {
    "colab": {
     "base_uri": "https://localhost:8080/"
    },
    "executionInfo": {
     "elapsed": 4,
     "status": "ok",
     "timestamp": 1623566126388,
     "user": {
      "displayName": "Sayan Dey",
      "photoUrl": "https://lh3.googleusercontent.com/a-/AOh14GgqVHJ9o6-7idGiRbNNd4iVc1VjzvuPnwmAnvEtD6U=s64",
      "userId": "03603580465490055794"
     },
     "user_tz": -330
    },
    "id": "Ts4vsy8MFOpF",
    "outputId": "95ce5737-b76a-4443-d7ff-a8fbd56b3ed7"
   },
   "outputs": [
    {
     "name": "stdout",
     "output_type": "stream",
     "text": [
      "90\n"
     ]
    }
   ],
   "source": [
    "print(len(documents[0]))"
   ]
  },
  {
   "cell_type": "code",
   "execution_count": 25,
   "metadata": {
    "colab": {
     "base_uri": "https://localhost:8080/"
    },
    "executionInfo": {
     "elapsed": 1553,
     "status": "ok",
     "timestamp": 1619260644015,
     "user": {
      "displayName": "Sayan Dey",
      "photoUrl": "https://lh3.googleusercontent.com/a-/AOh14GgqVHJ9o6-7idGiRbNNd4iVc1VjzvuPnwmAnvEtD6U=s64",
      "userId": "03603580465490055794"
     },
     "user_tz": -330
    },
    "id": "O3D6hiEAcRkf",
    "outputId": "dca409e1-2717-407e-8b40-4649a98a93c0"
   },
   "outputs": [
    {
     "data": {
      "text/plain": [
       "121"
      ]
     },
     "execution_count": 25,
     "metadata": {},
     "output_type": "execute_result"
    }
   ],
   "source": [
    "len(documents[108])"
   ]
  },
  {
   "cell_type": "markdown",
   "metadata": {
    "id": "EHhZ8ncUaiv_"
   },
   "source": [
    "### Build the Model"
   ]
  },
  {
   "cell_type": "code",
   "execution_count": 28,
   "metadata": {
    "colab": {
     "base_uri": "https://localhost:8080/"
    },
    "executionInfo": {
     "elapsed": 407455,
     "status": "ok",
     "timestamp": 1623568015875,
     "user": {
      "displayName": "Sayan Dey",
      "photoUrl": "https://lh3.googleusercontent.com/a-/AOh14GgqVHJ9o6-7idGiRbNNd4iVc1VjzvuPnwmAnvEtD6U=s64",
      "userId": "03603580465490055794"
     },
     "user_tz": -330
    },
    "id": "KsB8HpGwaiwA",
    "outputId": "f5a5c8e8-1e7d-4430-e4f2-b6d2a53c5a07",
    "scrolled": true
   },
   "outputs": [
    {
     "name": "stderr",
     "output_type": "stream",
     "text": [
      "2021-07-04 12:31:12,758 : INFO : collecting all words and their counts\n",
      "2021-07-04 12:31:12,758 : INFO : PROGRESS: at sentence #0, processed 0 words, keeping 0 word types\n",
      "2021-07-04 12:31:13,195 : INFO : PROGRESS: at sentence #10000, processed 2399440 words, keeping 51654 word types\n",
      "2021-07-04 12:31:13,616 : INFO : PROGRESS: at sentence #20000, processed 4835846 words, keeping 69077 word types\n",
      "2021-07-04 12:31:14,096 : INFO : PROGRESS: at sentence #30000, processed 7267977 words, keeping 81515 word types\n",
      "2021-07-04 12:31:14,648 : INFO : PROGRESS: at sentence #40000, processed 9669772 words, keeping 91685 word types\n",
      "2021-07-04 12:31:15,074 : INFO : collected 100479 word types from a corpus of 12084660 raw words and 50000 sentences\n",
      "2021-07-04 12:31:15,074 : INFO : Creating a fresh vocabulary\n",
      "2021-07-04 12:31:15,256 : INFO : Word2Vec lifecycle event {'msg': 'effective_min_count=5 retains 39730 unique words (39.54060052349247%% of original 100479, drops 60749)', 'datetime': '2021-07-04T12:31:15.256630', 'gensim': '4.0.1', 'python': '3.8.5 (default, Sep  3 2020, 21:29:08) [MSC v.1916 64 bit (AMD64)]', 'platform': 'Windows-10-10.0.19041-SP0', 'event': 'prepare_vocab'}\n",
      "2021-07-04 12:31:15,257 : INFO : Word2Vec lifecycle event {'msg': 'effective_min_count=5 leaves 11985689 word corpus (99.1810195735751%% of original 12084660, drops 98971)', 'datetime': '2021-07-04T12:31:15.257628', 'gensim': '4.0.1', 'python': '3.8.5 (default, Sep  3 2020, 21:29:08) [MSC v.1916 64 bit (AMD64)]', 'platform': 'Windows-10-10.0.19041-SP0', 'event': 'prepare_vocab'}\n",
      "2021-07-04 12:31:15,468 : INFO : deleting the raw counts dictionary of 100479 items\n",
      "2021-07-04 12:31:15,471 : INFO : sample=0.001 downsamples 49 most-common words\n",
      "2021-07-04 12:31:15,472 : INFO : Word2Vec lifecycle event {'msg': 'downsampling leaves estimated 8901252.199361648 word corpus (74.3%% of prior 11985689)', 'datetime': '2021-07-04T12:31:15.472001', 'gensim': '4.0.1', 'python': '3.8.5 (default, Sep  3 2020, 21:29:08) [MSC v.1916 64 bit (AMD64)]', 'platform': 'Windows-10-10.0.19041-SP0', 'event': 'prepare_vocab'}\n",
      "2021-07-04 12:31:15,842 : INFO : estimated required memory for 39730 words and 300 dimensions: 115217000 bytes\n",
      "2021-07-04 12:31:15,843 : INFO : resetting layer weights\n",
      "2021-07-04 12:31:15,915 : INFO : Word2Vec lifecycle event {'update': False, 'trim_rule': 'None', 'datetime': '2021-07-04T12:31:15.915063', 'gensim': '4.0.1', 'python': '3.8.5 (default, Sep  3 2020, 21:29:08) [MSC v.1916 64 bit (AMD64)]', 'platform': 'Windows-10-10.0.19041-SP0', 'event': 'build_vocab'}\n",
      "2021-07-04 12:31:15,915 : INFO : Word2Vec lifecycle event {'msg': 'training model with 4 workers on 39730 vocabulary and 300 features, using sg=0 hs=0 sample=0.001 negative=5 window=5', 'datetime': '2021-07-04T12:31:15.915063', 'gensim': '4.0.1', 'python': '3.8.5 (default, Sep  3 2020, 21:29:08) [MSC v.1916 64 bit (AMD64)]', 'platform': 'Windows-10-10.0.19041-SP0', 'event': 'train'}\n",
      "2021-07-04 12:31:16,920 : INFO : EPOCH 1 - PROGRESS: at 13.32% examples, 1172263 words/s, in_qsize 7, out_qsize 0\n",
      "2021-07-04 12:31:17,921 : INFO : EPOCH 1 - PROGRESS: at 26.74% examples, 1181690 words/s, in_qsize 7, out_qsize 0\n",
      "2021-07-04 12:31:18,922 : INFO : EPOCH 1 - PROGRESS: at 39.96% examples, 1184848 words/s, in_qsize 7, out_qsize 0\n",
      "2021-07-04 12:31:19,927 : INFO : EPOCH 1 - PROGRESS: at 53.20% examples, 1182195 words/s, in_qsize 7, out_qsize 0\n",
      "2021-07-04 12:31:20,939 : INFO : EPOCH 1 - PROGRESS: at 66.46% examples, 1182154 words/s, in_qsize 7, out_qsize 0\n",
      "2021-07-04 12:31:21,938 : INFO : EPOCH 1 - PROGRESS: at 80.16% examples, 1185264 words/s, in_qsize 7, out_qsize 0\n",
      "2021-07-04 12:31:22,945 : INFO : EPOCH 1 - PROGRESS: at 91.63% examples, 1160635 words/s, in_qsize 7, out_qsize 0\n",
      "2021-07-04 12:31:23,826 : INFO : worker thread finished; awaiting finish of 3 more threads\n",
      "2021-07-04 12:31:23,833 : INFO : worker thread finished; awaiting finish of 2 more threads\n",
      "2021-07-04 12:31:23,842 : INFO : worker thread finished; awaiting finish of 1 more threads\n",
      "2021-07-04 12:31:23,846 : INFO : worker thread finished; awaiting finish of 0 more threads\n",
      "2021-07-04 12:31:23,846 : INFO : EPOCH - 1 : training on 12084660 raw words (8901222 effective words) took 7.9s, 1122764 effective words/s\n",
      "2021-07-04 12:31:24,855 : INFO : EPOCH 2 - PROGRESS: at 10.07% examples, 885928 words/s, in_qsize 7, out_qsize 0\n",
      "2021-07-04 12:31:25,937 : INFO : EPOCH 2 - PROGRESS: at 14.87% examples, 628176 words/s, in_qsize 8, out_qsize 0\n",
      "2021-07-04 12:31:26,938 : INFO : EPOCH 2 - PROGRESS: at 19.83% examples, 567247 words/s, in_qsize 7, out_qsize 0\n",
      "2021-07-04 12:31:27,952 : INFO : EPOCH 2 - PROGRESS: at 26.16% examples, 564548 words/s, in_qsize 7, out_qsize 0\n",
      "2021-07-04 12:31:28,953 : INFO : EPOCH 2 - PROGRESS: at 35.91% examples, 623833 words/s, in_qsize 8, out_qsize 0\n",
      "2021-07-04 12:31:29,953 : INFO : EPOCH 2 - PROGRESS: at 41.12% examples, 599775 words/s, in_qsize 7, out_qsize 0\n",
      "2021-07-04 12:31:30,955 : INFO : EPOCH 2 - PROGRESS: at 47.36% examples, 594518 words/s, in_qsize 7, out_qsize 0\n",
      "2021-07-04 12:31:31,961 : INFO : EPOCH 2 - PROGRESS: at 54.00% examples, 593178 words/s, in_qsize 7, out_qsize 0\n",
      "2021-07-04 12:31:32,961 : INFO : EPOCH 2 - PROGRESS: at 62.20% examples, 609254 words/s, in_qsize 7, out_qsize 0\n",
      "2021-07-04 12:31:33,968 : INFO : EPOCH 2 - PROGRESS: at 74.98% examples, 660881 words/s, in_qsize 7, out_qsize 0\n",
      "2021-07-04 12:31:34,972 : INFO : EPOCH 2 - PROGRESS: at 87.99% examples, 704064 words/s, in_qsize 8, out_qsize 0\n",
      "2021-07-04 12:31:35,864 : INFO : worker thread finished; awaiting finish of 3 more threads\n",
      "2021-07-04 12:31:35,872 : INFO : worker thread finished; awaiting finish of 2 more threads\n",
      "2021-07-04 12:31:35,873 : INFO : worker thread finished; awaiting finish of 1 more threads\n",
      "2021-07-04 12:31:35,875 : INFO : worker thread finished; awaiting finish of 0 more threads\n",
      "2021-07-04 12:31:35,876 : INFO : EPOCH - 2 : training on 12084660 raw words (8901755 effective words) took 12.0s, 740116 effective words/s\n",
      "2021-07-04 12:31:36,884 : INFO : EPOCH 3 - PROGRESS: at 12.41% examples, 1088589 words/s, in_qsize 7, out_qsize 0\n",
      "2021-07-04 12:31:37,896 : INFO : EPOCH 3 - PROGRESS: at 25.41% examples, 1115213 words/s, in_qsize 7, out_qsize 0\n",
      "2021-07-04 12:31:38,901 : INFO : EPOCH 3 - PROGRESS: at 38.43% examples, 1129432 words/s, in_qsize 7, out_qsize 0\n",
      "2021-07-04 12:31:39,908 : INFO : EPOCH 3 - PROGRESS: at 51.62% examples, 1141705 words/s, in_qsize 7, out_qsize 0\n",
      "2021-07-04 12:31:40,937 : INFO : EPOCH 3 - PROGRESS: at 61.81% examples, 1090244 words/s, in_qsize 7, out_qsize 0\n",
      "2021-07-04 12:31:41,943 : INFO : EPOCH 3 - PROGRESS: at 68.73% examples, 1010678 words/s, in_qsize 7, out_qsize 0\n",
      "2021-07-04 12:31:42,947 : INFO : EPOCH 3 - PROGRESS: at 80.55% examples, 1014420 words/s, in_qsize 7, out_qsize 0\n",
      "2021-07-04 12:31:43,957 : INFO : EPOCH 3 - PROGRESS: at 93.52% examples, 1030199 words/s, in_qsize 7, out_qsize 0\n",
      "2021-07-04 12:31:44,458 : INFO : worker thread finished; awaiting finish of 3 more threads\n",
      "2021-07-04 12:31:44,459 : INFO : worker thread finished; awaiting finish of 2 more threads\n",
      "2021-07-04 12:31:44,462 : INFO : worker thread finished; awaiting finish of 1 more threads\n",
      "2021-07-04 12:31:44,467 : INFO : worker thread finished; awaiting finish of 0 more threads\n",
      "2021-07-04 12:31:44,468 : INFO : EPOCH - 3 : training on 12084660 raw words (8900797 effective words) took 8.6s, 1036224 effective words/s\n",
      "2021-07-04 12:31:45,472 : INFO : EPOCH 4 - PROGRESS: at 12.16% examples, 1070231 words/s, in_qsize 7, out_qsize 0\n",
      "2021-07-04 12:31:46,474 : INFO : EPOCH 4 - PROGRESS: at 25.66% examples, 1134030 words/s, in_qsize 7, out_qsize 0\n",
      "2021-07-04 12:31:47,475 : INFO : EPOCH 4 - PROGRESS: at 38.63% examples, 1143957 words/s, in_qsize 7, out_qsize 0\n",
      "2021-07-04 12:31:48,485 : INFO : EPOCH 4 - PROGRESS: at 51.46% examples, 1142744 words/s, in_qsize 7, out_qsize 0\n",
      "2021-07-04 12:31:49,485 : INFO : EPOCH 4 - PROGRESS: at 64.51% examples, 1149060 words/s, in_qsize 7, out_qsize 0\n",
      "2021-07-04 12:31:50,488 : INFO : EPOCH 4 - PROGRESS: at 77.99% examples, 1155861 words/s, in_qsize 7, out_qsize 0\n",
      "2021-07-04 12:31:51,494 : INFO : EPOCH 4 - PROGRESS: at 91.18% examples, 1155227 words/s, in_qsize 7, out_qsize 0\n"
     ]
    },
    {
     "name": "stderr",
     "output_type": "stream",
     "text": [
      "2021-07-04 12:31:52,159 : INFO : worker thread finished; awaiting finish of 3 more threads\n",
      "2021-07-04 12:31:52,162 : INFO : worker thread finished; awaiting finish of 2 more threads\n",
      "2021-07-04 12:31:52,163 : INFO : worker thread finished; awaiting finish of 1 more threads\n",
      "2021-07-04 12:31:52,174 : INFO : worker thread finished; awaiting finish of 0 more threads\n",
      "2021-07-04 12:31:52,175 : INFO : EPOCH - 4 : training on 12084660 raw words (8901430 effective words) took 7.7s, 1155438 effective words/s\n",
      "2021-07-04 12:31:53,187 : INFO : EPOCH 5 - PROGRESS: at 12.08% examples, 1056312 words/s, in_qsize 7, out_qsize 0\n",
      "2021-07-04 12:31:54,194 : INFO : EPOCH 5 - PROGRESS: at 23.85% examples, 1044644 words/s, in_qsize 7, out_qsize 0\n",
      "2021-07-04 12:31:55,196 : INFO : EPOCH 5 - PROGRESS: at 35.14% examples, 1033011 words/s, in_qsize 8, out_qsize 0\n",
      "2021-07-04 12:31:56,204 : INFO : EPOCH 5 - PROGRESS: at 47.60% examples, 1054420 words/s, in_qsize 7, out_qsize 0\n",
      "2021-07-04 12:31:57,206 : INFO : EPOCH 5 - PROGRESS: at 60.34% examples, 1071008 words/s, in_qsize 7, out_qsize 0\n",
      "2021-07-04 12:31:58,225 : INFO : EPOCH 5 - PROGRESS: at 73.39% examples, 1081778 words/s, in_qsize 7, out_qsize 3\n",
      "2021-07-04 12:31:59,229 : INFO : EPOCH 5 - PROGRESS: at 86.76% examples, 1095082 words/s, in_qsize 8, out_qsize 0\n",
      "2021-07-04 12:32:00,231 : INFO : EPOCH 5 - PROGRESS: at 99.40% examples, 1098783 words/s, in_qsize 7, out_qsize 0\n",
      "2021-07-04 12:32:00,260 : INFO : worker thread finished; awaiting finish of 3 more threads\n",
      "2021-07-04 12:32:00,265 : INFO : worker thread finished; awaiting finish of 2 more threads\n",
      "2021-07-04 12:32:00,269 : INFO : worker thread finished; awaiting finish of 1 more threads\n",
      "2021-07-04 12:32:00,283 : INFO : worker thread finished; awaiting finish of 0 more threads\n",
      "2021-07-04 12:32:00,285 : INFO : EPOCH - 5 : training on 12084660 raw words (8901083 effective words) took 8.1s, 1097987 effective words/s\n",
      "2021-07-04 12:32:01,291 : INFO : EPOCH 6 - PROGRESS: at 11.98% examples, 1056591 words/s, in_qsize 7, out_qsize 0\n",
      "2021-07-04 12:32:02,294 : INFO : EPOCH 6 - PROGRESS: at 24.13% examples, 1065430 words/s, in_qsize 7, out_qsize 0\n",
      "2021-07-04 12:32:03,297 : INFO : EPOCH 6 - PROGRESS: at 36.92% examples, 1089887 words/s, in_qsize 7, out_qsize 0\n",
      "2021-07-04 12:32:04,305 : INFO : EPOCH 6 - PROGRESS: at 49.49% examples, 1098826 words/s, in_qsize 8, out_qsize 0\n",
      "2021-07-04 12:32:05,308 : INFO : EPOCH 6 - PROGRESS: at 61.89% examples, 1100463 words/s, in_qsize 8, out_qsize 0\n",
      "2021-07-04 12:32:06,312 : INFO : EPOCH 6 - PROGRESS: at 74.75% examples, 1106707 words/s, in_qsize 7, out_qsize 0\n",
      "2021-07-04 12:32:07,323 : INFO : EPOCH 6 - PROGRESS: at 87.91% examples, 1112397 words/s, in_qsize 8, out_qsize 0\n",
      "2021-07-04 12:32:08,261 : INFO : worker thread finished; awaiting finish of 3 more threads\n",
      "2021-07-04 12:32:08,266 : INFO : worker thread finished; awaiting finish of 2 more threads\n",
      "2021-07-04 12:32:08,267 : INFO : worker thread finished; awaiting finish of 1 more threads\n",
      "2021-07-04 12:32:08,276 : INFO : worker thread finished; awaiting finish of 0 more threads\n",
      "2021-07-04 12:32:08,277 : INFO : EPOCH - 6 : training on 12084660 raw words (8902043 effective words) took 8.0s, 1114472 effective words/s\n",
      "2021-07-04 12:32:09,280 : INFO : EPOCH 7 - PROGRESS: at 12.32% examples, 1087683 words/s, in_qsize 7, out_qsize 0\n",
      "2021-07-04 12:32:10,282 : INFO : EPOCH 7 - PROGRESS: at 25.66% examples, 1135360 words/s, in_qsize 7, out_qsize 0\n",
      "2021-07-04 12:32:11,284 : INFO : EPOCH 7 - PROGRESS: at 38.49% examples, 1139425 words/s, in_qsize 7, out_qsize 0\n",
      "2021-07-04 12:32:12,285 : INFO : EPOCH 7 - PROGRESS: at 51.30% examples, 1141789 words/s, in_qsize 8, out_qsize 0\n",
      "2021-07-04 12:32:13,291 : INFO : EPOCH 7 - PROGRESS: at 64.04% examples, 1141203 words/s, in_qsize 8, out_qsize 0\n",
      "2021-07-04 12:32:14,298 : INFO : EPOCH 7 - PROGRESS: at 77.10% examples, 1142800 words/s, in_qsize 7, out_qsize 0\n",
      "2021-07-04 12:32:15,305 : INFO : EPOCH 7 - PROGRESS: at 90.34% examples, 1144789 words/s, in_qsize 7, out_qsize 0\n",
      "2021-07-04 12:32:16,029 : INFO : worker thread finished; awaiting finish of 3 more threads\n",
      "2021-07-04 12:32:16,033 : INFO : worker thread finished; awaiting finish of 2 more threads\n",
      "2021-07-04 12:32:16,034 : INFO : worker thread finished; awaiting finish of 1 more threads\n",
      "2021-07-04 12:32:16,039 : INFO : worker thread finished; awaiting finish of 0 more threads\n",
      "2021-07-04 12:32:16,041 : INFO : EPOCH - 7 : training on 12084660 raw words (8902717 effective words) took 7.8s, 1147088 effective words/s\n",
      "2021-07-04 12:32:17,050 : INFO : EPOCH 8 - PROGRESS: at 12.08% examples, 1059701 words/s, in_qsize 7, out_qsize 0\n",
      "2021-07-04 12:32:18,061 : INFO : EPOCH 8 - PROGRESS: at 21.30% examples, 933332 words/s, in_qsize 8, out_qsize 0\n",
      "2021-07-04 12:32:19,079 : INFO : EPOCH 8 - PROGRESS: at 26.92% examples, 784699 words/s, in_qsize 7, out_qsize 0\n",
      "2021-07-04 12:32:20,080 : INFO : EPOCH 8 - PROGRESS: at 34.97% examples, 769057 words/s, in_qsize 7, out_qsize 0\n",
      "2021-07-04 12:32:21,103 : INFO : EPOCH 8 - PROGRESS: at 39.58% examples, 696475 words/s, in_qsize 7, out_qsize 0\n",
      "2021-07-04 12:32:22,107 : INFO : EPOCH 8 - PROGRESS: at 46.53% examples, 684886 words/s, in_qsize 7, out_qsize 0\n",
      "2021-07-04 12:32:23,121 : INFO : EPOCH 8 - PROGRESS: at 52.81% examples, 664610 words/s, in_qsize 8, out_qsize 0\n",
      "2021-07-04 12:32:24,122 : INFO : EPOCH 8 - PROGRESS: at 57.97% examples, 639803 words/s, in_qsize 8, out_qsize 0\n",
      "2021-07-04 12:32:25,125 : INFO : EPOCH 8 - PROGRESS: at 68.23% examples, 670324 words/s, in_qsize 7, out_qsize 0\n",
      "2021-07-04 12:32:26,129 : INFO : EPOCH 8 - PROGRESS: at 80.55% examples, 711160 words/s, in_qsize 7, out_qsize 0\n",
      "2021-07-04 12:32:27,138 : INFO : EPOCH 8 - PROGRESS: at 92.76% examples, 744365 words/s, in_qsize 7, out_qsize 0\n",
      "2021-07-04 12:32:27,708 : INFO : worker thread finished; awaiting finish of 3 more threads\n",
      "2021-07-04 12:32:27,711 : INFO : worker thread finished; awaiting finish of 2 more threads\n",
      "2021-07-04 12:32:27,714 : INFO : worker thread finished; awaiting finish of 1 more threads\n",
      "2021-07-04 12:32:27,723 : INFO : worker thread finished; awaiting finish of 0 more threads\n",
      "2021-07-04 12:32:27,725 : INFO : EPOCH - 8 : training on 12084660 raw words (8901334 effective words) took 11.7s, 762153 effective words/s\n",
      "2021-07-04 12:32:28,731 : INFO : EPOCH 9 - PROGRESS: at 11.99% examples, 1055165 words/s, in_qsize 7, out_qsize 0\n",
      "2021-07-04 12:32:29,736 : INFO : EPOCH 9 - PROGRESS: at 24.45% examples, 1077544 words/s, in_qsize 7, out_qsize 0\n",
      "2021-07-04 12:32:30,741 : INFO : EPOCH 9 - PROGRESS: at 34.60% examples, 1018182 words/s, in_qsize 7, out_qsize 0\n",
      "2021-07-04 12:32:31,750 : INFO : EPOCH 9 - PROGRESS: at 45.36% examples, 1005099 words/s, in_qsize 8, out_qsize 1\n",
      "2021-07-04 12:32:32,795 : INFO : EPOCH 9 - PROGRESS: at 52.81% examples, 928116 words/s, in_qsize 7, out_qsize 0\n",
      "2021-07-04 12:32:33,808 : INFO : EPOCH 9 - PROGRESS: at 56.08% examples, 822295 words/s, in_qsize 7, out_qsize 0\n",
      "2021-07-04 12:32:34,815 : INFO : EPOCH 9 - PROGRESS: at 63.22% examples, 796516 words/s, in_qsize 7, out_qsize 0\n",
      "2021-07-04 12:32:35,826 : INFO : EPOCH 9 - PROGRESS: at 72.33% examples, 796282 words/s, in_qsize 7, out_qsize 0\n",
      "2021-07-04 12:32:36,840 : INFO : EPOCH 9 - PROGRESS: at 78.44% examples, 767188 words/s, in_qsize 7, out_qsize 0\n",
      "2021-07-04 12:32:37,859 : INFO : EPOCH 9 - PROGRESS: at 83.93% examples, 737716 words/s, in_qsize 7, out_qsize 0\n",
      "2021-07-04 12:32:38,865 : INFO : EPOCH 9 - PROGRESS: at 92.59% examples, 739979 words/s, in_qsize 8, out_qsize 0\n",
      "2021-07-04 12:32:39,870 : INFO : EPOCH 9 - PROGRESS: at 98.16% examples, 719713 words/s, in_qsize 7, out_qsize 0\n",
      "2021-07-04 12:32:40,087 : INFO : worker thread finished; awaiting finish of 3 more threads\n",
      "2021-07-04 12:32:40,089 : INFO : worker thread finished; awaiting finish of 2 more threads\n",
      "2021-07-04 12:32:40,099 : INFO : worker thread finished; awaiting finish of 1 more threads\n",
      "2021-07-04 12:32:40,102 : INFO : worker thread finished; awaiting finish of 0 more threads\n",
      "2021-07-04 12:32:40,106 : INFO : EPOCH - 9 : training on 12084660 raw words (8899979 effective words) took 12.4s, 718988 effective words/s\n",
      "2021-07-04 12:32:41,120 : INFO : EPOCH 10 - PROGRESS: at 7.04% examples, 619065 words/s, in_qsize 7, out_qsize 0\n"
     ]
    },
    {
     "name": "stderr",
     "output_type": "stream",
     "text": [
      "2021-07-04 12:32:42,120 : INFO : EPOCH 10 - PROGRESS: at 19.18% examples, 844363 words/s, in_qsize 7, out_qsize 0\n",
      "2021-07-04 12:32:43,121 : INFO : EPOCH 10 - PROGRESS: at 31.46% examples, 926319 words/s, in_qsize 7, out_qsize 0\n",
      "2021-07-04 12:32:44,126 : INFO : EPOCH 10 - PROGRESS: at 43.30% examples, 960733 words/s, in_qsize 7, out_qsize 0\n",
      "2021-07-04 12:32:45,135 : INFO : EPOCH 10 - PROGRESS: at 55.86% examples, 991576 words/s, in_qsize 7, out_qsize 0\n",
      "2021-07-04 12:32:46,135 : INFO : EPOCH 10 - PROGRESS: at 68.23% examples, 1010788 words/s, in_qsize 7, out_qsize 0\n",
      "2021-07-04 12:32:47,139 : INFO : EPOCH 10 - PROGRESS: at 81.10% examples, 1027938 words/s, in_qsize 7, out_qsize 0\n",
      "2021-07-04 12:32:48,140 : INFO : EPOCH 10 - PROGRESS: at 93.60% examples, 1037708 words/s, in_qsize 7, out_qsize 0\n",
      "2021-07-04 12:32:48,693 : INFO : worker thread finished; awaiting finish of 3 more threads\n",
      "2021-07-04 12:32:48,694 : INFO : worker thread finished; awaiting finish of 2 more threads\n",
      "2021-07-04 12:32:48,699 : INFO : worker thread finished; awaiting finish of 1 more threads\n",
      "2021-07-04 12:32:48,705 : INFO : worker thread finished; awaiting finish of 0 more threads\n",
      "2021-07-04 12:32:48,706 : INFO : EPOCH - 10 : training on 12084660 raw words (8898672 effective words) took 8.6s, 1035868 effective words/s\n",
      "2021-07-04 12:32:49,721 : INFO : EPOCH 11 - PROGRESS: at 7.11% examples, 624827 words/s, in_qsize 7, out_qsize 0\n",
      "2021-07-04 12:32:50,752 : INFO : EPOCH 11 - PROGRESS: at 15.93% examples, 689981 words/s, in_qsize 5, out_qsize 2\n",
      "2021-07-04 12:32:51,754 : INFO : EPOCH 11 - PROGRESS: at 25.01% examples, 728384 words/s, in_qsize 7, out_qsize 0\n",
      "2021-07-04 12:32:52,759 : INFO : EPOCH 11 - PROGRESS: at 37.44% examples, 822360 words/s, in_qsize 7, out_qsize 0\n",
      "2021-07-04 12:32:53,760 : INFO : EPOCH 11 - PROGRESS: at 49.51% examples, 874291 words/s, in_qsize 7, out_qsize 0\n",
      "2021-07-04 12:32:54,766 : INFO : EPOCH 11 - PROGRESS: at 58.96% examples, 869247 words/s, in_qsize 7, out_qsize 0\n",
      "2021-07-04 12:32:55,774 : INFO : EPOCH 11 - PROGRESS: at 68.95% examples, 871215 words/s, in_qsize 7, out_qsize 0\n",
      "2021-07-04 12:32:56,792 : INFO : EPOCH 11 - PROGRESS: at 78.08% examples, 861706 words/s, in_qsize 7, out_qsize 0\n",
      "2021-07-04 12:32:57,797 : INFO : EPOCH 11 - PROGRESS: at 87.91% examples, 861160 words/s, in_qsize 7, out_qsize 0\n",
      "2021-07-04 12:32:58,806 : INFO : EPOCH 11 - PROGRESS: at 96.48% examples, 851489 words/s, in_qsize 7, out_qsize 0\n",
      "2021-07-04 12:32:59,090 : INFO : worker thread finished; awaiting finish of 3 more threads\n",
      "2021-07-04 12:32:59,104 : INFO : worker thread finished; awaiting finish of 2 more threads\n",
      "2021-07-04 12:32:59,109 : INFO : worker thread finished; awaiting finish of 1 more threads\n",
      "2021-07-04 12:32:59,116 : INFO : worker thread finished; awaiting finish of 0 more threads\n",
      "2021-07-04 12:32:59,118 : INFO : EPOCH - 11 : training on 12084660 raw words (8900864 effective words) took 10.4s, 855434 effective words/s\n",
      "2021-07-04 12:33:00,123 : INFO : EPOCH 12 - PROGRESS: at 8.38% examples, 737712 words/s, in_qsize 7, out_qsize 0\n",
      "2021-07-04 12:33:01,126 : INFO : EPOCH 12 - PROGRESS: at 19.76% examples, 870384 words/s, in_qsize 7, out_qsize 0\n",
      "2021-07-04 12:33:02,130 : INFO : EPOCH 12 - PROGRESS: at 31.84% examples, 938152 words/s, in_qsize 7, out_qsize 0\n",
      "2021-07-04 12:33:03,131 : INFO : EPOCH 12 - PROGRESS: at 44.04% examples, 977845 words/s, in_qsize 7, out_qsize 0\n",
      "2021-07-04 12:33:04,131 : INFO : EPOCH 12 - PROGRESS: at 56.32% examples, 1002472 words/s, in_qsize 7, out_qsize 0\n",
      "2021-07-04 12:33:05,152 : INFO : EPOCH 12 - PROGRESS: at 65.32% examples, 967391 words/s, in_qsize 7, out_qsize 0\n",
      "2021-07-04 12:33:06,155 : INFO : EPOCH 12 - PROGRESS: at 73.01% examples, 925134 words/s, in_qsize 8, out_qsize 0\n",
      "2021-07-04 12:33:07,168 : INFO : EPOCH 12 - PROGRESS: at 82.22% examples, 910000 words/s, in_qsize 7, out_qsize 0\n",
      "2021-07-04 12:33:08,170 : INFO : EPOCH 12 - PROGRESS: at 90.76% examples, 892619 words/s, in_qsize 7, out_qsize 0\n",
      "2021-07-04 12:33:08,958 : INFO : worker thread finished; awaiting finish of 3 more threads\n",
      "2021-07-04 12:33:08,961 : INFO : worker thread finished; awaiting finish of 2 more threads\n",
      "2021-07-04 12:33:08,963 : INFO : worker thread finished; awaiting finish of 1 more threads\n",
      "2021-07-04 12:33:08,967 : INFO : worker thread finished; awaiting finish of 0 more threads\n",
      "2021-07-04 12:33:08,968 : INFO : EPOCH - 12 : training on 12084660 raw words (8900920 effective words) took 9.8s, 903985 effective words/s\n",
      "2021-07-04 12:33:09,971 : INFO : EPOCH 13 - PROGRESS: at 12.32% examples, 1086962 words/s, in_qsize 7, out_qsize 0\n",
      "2021-07-04 12:33:10,971 : INFO : EPOCH 13 - PROGRESS: at 24.76% examples, 1096151 words/s, in_qsize 7, out_qsize 0\n",
      "2021-07-04 12:33:11,980 : INFO : EPOCH 13 - PROGRESS: at 37.15% examples, 1095718 words/s, in_qsize 7, out_qsize 0\n",
      "2021-07-04 12:33:12,988 : INFO : EPOCH 13 - PROGRESS: at 49.59% examples, 1100149 words/s, in_qsize 7, out_qsize 0\n",
      "2021-07-04 12:33:13,988 : INFO : EPOCH 13 - PROGRESS: at 61.81% examples, 1099191 words/s, in_qsize 7, out_qsize 0\n",
      "2021-07-04 12:33:14,994 : INFO : EPOCH 13 - PROGRESS: at 74.20% examples, 1098337 words/s, in_qsize 8, out_qsize 1\n",
      "2021-07-04 12:33:15,995 : INFO : EPOCH 13 - PROGRESS: at 86.78% examples, 1099385 words/s, in_qsize 7, out_qsize 0\n",
      "2021-07-04 12:33:16,999 : INFO : EPOCH 13 - PROGRESS: at 99.73% examples, 1105818 words/s, in_qsize 4, out_qsize 0\n",
      "2021-07-04 12:33:17,009 : INFO : worker thread finished; awaiting finish of 3 more threads\n",
      "2021-07-04 12:33:17,013 : INFO : worker thread finished; awaiting finish of 2 more threads\n",
      "2021-07-04 12:33:17,014 : INFO : worker thread finished; awaiting finish of 1 more threads\n",
      "2021-07-04 12:33:17,014 : INFO : worker thread finished; awaiting finish of 0 more threads\n",
      "2021-07-04 12:33:17,015 : INFO : EPOCH - 13 : training on 12084660 raw words (8902070 effective words) took 8.0s, 1106557 effective words/s\n",
      "2021-07-04 12:33:18,022 : INFO : EPOCH 14 - PROGRESS: at 11.73% examples, 1033708 words/s, in_qsize 7, out_qsize 0\n",
      "2021-07-04 12:33:19,023 : INFO : EPOCH 14 - PROGRESS: at 24.45% examples, 1079050 words/s, in_qsize 7, out_qsize 0\n",
      "2021-07-04 12:33:20,029 : INFO : EPOCH 14 - PROGRESS: at 36.83% examples, 1085750 words/s, in_qsize 7, out_qsize 0\n",
      "2021-07-04 12:33:21,031 : INFO : EPOCH 14 - PROGRESS: at 49.09% examples, 1090549 words/s, in_qsize 7, out_qsize 0\n",
      "2021-07-04 12:33:22,035 : INFO : EPOCH 14 - PROGRESS: at 61.50% examples, 1093609 words/s, in_qsize 7, out_qsize 0\n",
      "2021-07-04 12:33:23,060 : INFO : EPOCH 14 - PROGRESS: at 70.47% examples, 1039814 words/s, in_qsize 7, out_qsize 0\n",
      "2021-07-04 12:33:24,073 : INFO : EPOCH 14 - PROGRESS: at 79.90% examples, 1008327 words/s, in_qsize 7, out_qsize 0\n",
      "2021-07-04 12:33:25,138 : INFO : EPOCH 14 - PROGRESS: at 88.59% examples, 970490 words/s, in_qsize 8, out_qsize 0\n",
      "2021-07-04 12:33:26,201 : INFO : EPOCH 14 - PROGRESS: at 92.93% examples, 900729 words/s, in_qsize 5, out_qsize 2\n",
      "2021-07-04 12:33:27,128 : INFO : worker thread finished; awaiting finish of 3 more threads\n",
      "2021-07-04 12:33:27,128 : INFO : worker thread finished; awaiting finish of 2 more threads\n",
      "2021-07-04 12:33:27,132 : INFO : worker thread finished; awaiting finish of 1 more threads\n",
      "2021-07-04 12:33:27,136 : INFO : worker thread finished; awaiting finish of 0 more threads\n",
      "2021-07-04 12:33:27,137 : INFO : EPOCH - 14 : training on 12084660 raw words (8900033 effective words) took 10.1s, 879647 effective words/s\n",
      "2021-07-04 12:33:28,140 : INFO : EPOCH 15 - PROGRESS: at 11.73% examples, 1034887 words/s, in_qsize 7, out_qsize 0\n",
      "2021-07-04 12:33:29,141 : INFO : EPOCH 15 - PROGRESS: at 24.38% examples, 1076662 words/s, in_qsize 7, out_qsize 0\n",
      "2021-07-04 12:33:30,149 : INFO : EPOCH 15 - PROGRESS: at 36.92% examples, 1088349 words/s, in_qsize 7, out_qsize 0\n",
      "2021-07-04 12:33:31,157 : INFO : EPOCH 15 - PROGRESS: at 49.00% examples, 1087278 words/s, in_qsize 8, out_qsize 0\n",
      "2021-07-04 12:33:32,162 : INFO : EPOCH 15 - PROGRESS: at 61.40% examples, 1090853 words/s, in_qsize 7, out_qsize 0\n",
      "2021-07-04 12:33:33,164 : INFO : EPOCH 15 - PROGRESS: at 74.20% examples, 1097827 words/s, in_qsize 7, out_qsize 0\n",
      "2021-07-04 12:33:34,170 : INFO : EPOCH 15 - PROGRESS: at 86.60% examples, 1096083 words/s, in_qsize 7, out_qsize 0\n"
     ]
    },
    {
     "name": "stderr",
     "output_type": "stream",
     "text": [
      "2021-07-04 12:33:35,174 : INFO : EPOCH 15 - PROGRESS: at 98.50% examples, 1091238 words/s, in_qsize 7, out_qsize 0\n",
      "2021-07-04 12:33:35,287 : INFO : worker thread finished; awaiting finish of 3 more threads\n",
      "2021-07-04 12:33:35,294 : INFO : worker thread finished; awaiting finish of 2 more threads\n",
      "2021-07-04 12:33:35,296 : INFO : worker thread finished; awaiting finish of 1 more threads\n",
      "2021-07-04 12:33:35,303 : INFO : worker thread finished; awaiting finish of 0 more threads\n",
      "2021-07-04 12:33:35,304 : INFO : EPOCH - 15 : training on 12084660 raw words (8900328 effective words) took 8.2s, 1090116 effective words/s\n",
      "2021-07-04 12:33:36,309 : INFO : EPOCH 16 - PROGRESS: at 10.48% examples, 924927 words/s, in_qsize 8, out_qsize 0\n",
      "2021-07-04 12:33:37,324 : INFO : EPOCH 16 - PROGRESS: at 22.32% examples, 975758 words/s, in_qsize 6, out_qsize 1\n",
      "2021-07-04 12:33:38,329 : INFO : EPOCH 16 - PROGRESS: at 31.70% examples, 928685 words/s, in_qsize 7, out_qsize 0\n",
      "2021-07-04 12:33:39,339 : INFO : EPOCH 16 - PROGRESS: at 43.89% examples, 968554 words/s, in_qsize 7, out_qsize 0\n",
      "2021-07-04 12:33:40,340 : INFO : EPOCH 16 - PROGRESS: at 55.86% examples, 989095 words/s, in_qsize 7, out_qsize 0\n",
      "2021-07-04 12:33:41,348 : INFO : EPOCH 16 - PROGRESS: at 68.23% examples, 1007322 words/s, in_qsize 8, out_qsize 0\n",
      "2021-07-04 12:33:42,349 : INFO : EPOCH 16 - PROGRESS: at 80.30% examples, 1015098 words/s, in_qsize 7, out_qsize 0\n",
      "2021-07-04 12:33:43,354 : INFO : EPOCH 16 - PROGRESS: at 92.86% examples, 1026849 words/s, in_qsize 7, out_qsize 0\n",
      "2021-07-04 12:33:43,876 : INFO : worker thread finished; awaiting finish of 3 more threads\n",
      "2021-07-04 12:33:43,878 : INFO : worker thread finished; awaiting finish of 2 more threads\n",
      "2021-07-04 12:33:43,881 : INFO : worker thread finished; awaiting finish of 1 more threads\n",
      "2021-07-04 12:33:43,889 : INFO : worker thread finished; awaiting finish of 0 more threads\n",
      "2021-07-04 12:33:43,890 : INFO : EPOCH - 16 : training on 12084660 raw words (8898461 effective words) took 8.6s, 1036861 effective words/s\n",
      "2021-07-04 12:33:44,899 : INFO : EPOCH 17 - PROGRESS: at 11.90% examples, 1047334 words/s, in_qsize 7, out_qsize 0\n",
      "2021-07-04 12:33:45,905 : INFO : EPOCH 17 - PROGRESS: at 21.66% examples, 951725 words/s, in_qsize 7, out_qsize 0\n",
      "2021-07-04 12:33:46,909 : INFO : EPOCH 17 - PROGRESS: at 29.89% examples, 879114 words/s, in_qsize 7, out_qsize 0\n",
      "2021-07-04 12:33:47,916 : INFO : EPOCH 17 - PROGRESS: at 42.41% examples, 939034 words/s, in_qsize 7, out_qsize 0\n",
      "2021-07-04 12:33:48,929 : INFO : EPOCH 17 - PROGRESS: at 55.12% examples, 976122 words/s, in_qsize 8, out_qsize 0\n",
      "2021-07-04 12:33:49,941 : INFO : EPOCH 17 - PROGRESS: at 67.55% examples, 996941 words/s, in_qsize 7, out_qsize 1\n",
      "2021-07-04 12:33:50,948 : INFO : EPOCH 17 - PROGRESS: at 80.22% examples, 1012581 words/s, in_qsize 7, out_qsize 0\n",
      "2021-07-04 12:33:51,949 : INFO : EPOCH 17 - PROGRESS: at 92.68% examples, 1024197 words/s, in_qsize 7, out_qsize 0\n",
      "2021-07-04 12:33:52,519 : INFO : worker thread finished; awaiting finish of 3 more threads\n",
      "2021-07-04 12:33:52,526 : INFO : worker thread finished; awaiting finish of 2 more threads\n",
      "2021-07-04 12:33:52,526 : INFO : worker thread finished; awaiting finish of 1 more threads\n",
      "2021-07-04 12:33:52,533 : INFO : worker thread finished; awaiting finish of 0 more threads\n",
      "2021-07-04 12:33:52,535 : INFO : EPOCH - 17 : training on 12084660 raw words (8900057 effective words) took 8.6s, 1030222 effective words/s\n",
      "2021-07-04 12:33:53,539 : INFO : EPOCH 18 - PROGRESS: at 11.98% examples, 1056529 words/s, in_qsize 7, out_qsize 0\n",
      "2021-07-04 12:33:54,540 : INFO : EPOCH 18 - PROGRESS: at 24.38% examples, 1076901 words/s, in_qsize 8, out_qsize 0\n",
      "2021-07-04 12:33:55,545 : INFO : EPOCH 18 - PROGRESS: at 36.92% examples, 1089810 words/s, in_qsize 7, out_qsize 0\n",
      "2021-07-04 12:33:56,549 : INFO : EPOCH 18 - PROGRESS: at 48.83% examples, 1085374 words/s, in_qsize 7, out_qsize 0\n",
      "2021-07-04 12:33:57,551 : INFO : EPOCH 18 - PROGRESS: at 61.17% examples, 1088627 words/s, in_qsize 7, out_qsize 0\n",
      "2021-07-04 12:33:58,582 : INFO : EPOCH 18 - PROGRESS: at 73.88% examples, 1089658 words/s, in_qsize 8, out_qsize 2\n",
      "2021-07-04 12:33:59,588 : INFO : EPOCH 18 - PROGRESS: at 86.76% examples, 1095274 words/s, in_qsize 7, out_qsize 0\n",
      "2021-07-04 12:34:00,593 : INFO : EPOCH 18 - PROGRESS: at 99.32% examples, 1097547 words/s, in_qsize 7, out_qsize 0\n",
      "2021-07-04 12:34:00,637 : INFO : worker thread finished; awaiting finish of 3 more threads\n",
      "2021-07-04 12:34:00,645 : INFO : worker thread finished; awaiting finish of 2 more threads\n",
      "2021-07-04 12:34:00,647 : INFO : worker thread finished; awaiting finish of 1 more threads\n",
      "2021-07-04 12:34:00,664 : INFO : worker thread finished; awaiting finish of 0 more threads\n",
      "2021-07-04 12:34:00,667 : INFO : EPOCH - 18 : training on 12084660 raw words (8900939 effective words) took 8.1s, 1094961 effective words/s\n",
      "2021-07-04 12:34:01,681 : INFO : EPOCH 19 - PROGRESS: at 10.00% examples, 878068 words/s, in_qsize 7, out_qsize 0\n",
      "2021-07-04 12:34:02,682 : INFO : EPOCH 19 - PROGRESS: at 18.51% examples, 814689 words/s, in_qsize 7, out_qsize 0\n",
      "2021-07-04 12:34:03,700 : INFO : EPOCH 19 - PROGRESS: at 25.24% examples, 739057 words/s, in_qsize 7, out_qsize 0\n",
      "2021-07-04 12:34:04,716 : INFO : EPOCH 19 - PROGRESS: at 32.31% examples, 708787 words/s, in_qsize 7, out_qsize 0\n",
      "2021-07-04 12:34:05,719 : INFO : EPOCH 19 - PROGRESS: at 44.82% examples, 791524 words/s, in_qsize 7, out_qsize 0\n",
      "2021-07-04 12:34:06,735 : INFO : EPOCH 19 - PROGRESS: at 56.92% examples, 836843 words/s, in_qsize 8, out_qsize 0\n",
      "2021-07-04 12:34:07,739 : INFO : EPOCH 19 - PROGRESS: at 69.69% examples, 880035 words/s, in_qsize 7, out_qsize 0\n",
      "2021-07-04 12:34:08,742 : INFO : EPOCH 19 - PROGRESS: at 80.63% examples, 889685 words/s, in_qsize 7, out_qsize 0\n",
      "2021-07-04 12:34:09,745 : INFO : EPOCH 19 - PROGRESS: at 88.85% examples, 871239 words/s, in_qsize 7, out_qsize 0\n",
      "2021-07-04 12:34:10,749 : INFO : EPOCH 19 - PROGRESS: at 96.48% examples, 853139 words/s, in_qsize 7, out_qsize 0\n",
      "2021-07-04 12:34:11,062 : INFO : worker thread finished; awaiting finish of 3 more threads\n",
      "2021-07-04 12:34:11,068 : INFO : worker thread finished; awaiting finish of 2 more threads\n",
      "2021-07-04 12:34:11,070 : INFO : worker thread finished; awaiting finish of 1 more threads\n",
      "2021-07-04 12:34:11,082 : INFO : worker thread finished; awaiting finish of 0 more threads\n",
      "2021-07-04 12:34:11,082 : INFO : EPOCH - 19 : training on 12084660 raw words (8901201 effective words) took 10.4s, 855187 effective words/s\n",
      "2021-07-04 12:34:12,090 : INFO : EPOCH 20 - PROGRESS: at 9.51% examples, 836780 words/s, in_qsize 7, out_qsize 0\n",
      "2021-07-04 12:34:13,092 : INFO : EPOCH 20 - PROGRESS: at 17.26% examples, 759013 words/s, in_qsize 7, out_qsize 0\n",
      "2021-07-04 12:34:14,122 : INFO : EPOCH 20 - PROGRESS: at 23.29% examples, 677133 words/s, in_qsize 8, out_qsize 1\n",
      "2021-07-04 12:34:15,130 : INFO : EPOCH 20 - PROGRESS: at 29.31% examples, 642695 words/s, in_qsize 8, out_qsize 0\n",
      "2021-07-04 12:34:16,149 : INFO : EPOCH 20 - PROGRESS: at 34.60% examples, 606134 words/s, in_qsize 7, out_qsize 0\n",
      "2021-07-04 12:34:17,167 : INFO : EPOCH 20 - PROGRESS: at 41.12% examples, 602053 words/s, in_qsize 7, out_qsize 0\n",
      "2021-07-04 12:34:18,170 : INFO : EPOCH 20 - PROGRESS: at 47.44% examples, 597420 words/s, in_qsize 8, out_qsize 0\n",
      "2021-07-04 12:34:19,176 : INFO : EPOCH 20 - PROGRESS: at 52.47% examples, 577866 words/s, in_qsize 8, out_qsize 0\n",
      "2021-07-04 12:34:20,198 : INFO : EPOCH 20 - PROGRESS: at 58.96% examples, 577418 words/s, in_qsize 8, out_qsize 1\n",
      "2021-07-04 12:34:21,211 : INFO : EPOCH 20 - PROGRESS: at 64.51% examples, 569079 words/s, in_qsize 7, out_qsize 0\n",
      "2021-07-04 12:34:22,225 : INFO : EPOCH 20 - PROGRESS: at 72.33% examples, 578917 words/s, in_qsize 7, out_qsize 0\n",
      "2021-07-04 12:34:23,249 : INFO : EPOCH 20 - PROGRESS: at 79.90% examples, 584870 words/s, in_qsize 8, out_qsize 0\n",
      "2021-07-04 12:34:24,259 : INFO : EPOCH 20 - PROGRESS: at 86.69% examples, 585614 words/s, in_qsize 7, out_qsize 0\n",
      "2021-07-04 12:34:25,281 : INFO : EPOCH 20 - PROGRESS: at 97.55% examples, 612124 words/s, in_qsize 7, out_qsize 0\n",
      "2021-07-04 12:34:25,460 : INFO : worker thread finished; awaiting finish of 3 more threads\n"
     ]
    },
    {
     "name": "stderr",
     "output_type": "stream",
     "text": [
      "2021-07-04 12:34:25,467 : INFO : worker thread finished; awaiting finish of 2 more threads\n",
      "2021-07-04 12:34:25,474 : INFO : worker thread finished; awaiting finish of 1 more threads\n",
      "2021-07-04 12:34:25,481 : INFO : worker thread finished; awaiting finish of 0 more threads\n",
      "2021-07-04 12:34:25,484 : INFO : EPOCH - 20 : training on 12084660 raw words (8900861 effective words) took 14.4s, 618216 effective words/s\n",
      "2021-07-04 12:34:25,485 : INFO : Word2Vec lifecycle event {'msg': 'training on 241693200 raw words (178016766 effective words) took 189.6s, 939058 effective words/s', 'datetime': '2021-07-04T12:34:25.485728', 'gensim': '4.0.1', 'python': '3.8.5 (default, Sep  3 2020, 21:29:08) [MSC v.1916 64 bit (AMD64)]', 'platform': 'Windows-10-10.0.19041-SP0', 'event': 'train'}\n",
      "2021-07-04 12:34:25,485 : INFO : Word2Vec lifecycle event {'params': 'Word2Vec(vocab=39730, vector_size=300, alpha=0.025)', 'datetime': '2021-07-04T12:34:25.485728', 'gensim': '4.0.1', 'python': '3.8.5 (default, Sep  3 2020, 21:29:08) [MSC v.1916 64 bit (AMD64)]', 'platform': 'Windows-10-10.0.19041-SP0', 'event': 'created'}\n"
     ]
    }
   ],
   "source": [
    "#Build the model\n",
    "model = gensim.models.Word2Vec(documents, #Word list\n",
    "                               min_count=5, #Ignore all words with total frequency lower than this                           \n",
    "                               workers=4, #Number of CPU Cores\n",
    "                               vector_size=300,  #Embedding size\n",
    "                               window=5, #Maximum Distance between current and predicted word\n",
    "                               epochs=20   #Number of iterations over the text corpus\n",
    "                              )  "
   ]
  },
  {
   "cell_type": "markdown",
   "metadata": {
    "id": "gDY9oFflaiwC"
   },
   "source": [
    "# Exploring the model"
   ]
  },
  {
   "cell_type": "markdown",
   "metadata": {
    "id": "Wnn8dzYTaiwD"
   },
   "source": [
    "### How many words in the model"
   ]
  },
  {
   "cell_type": "markdown",
   "metadata": {
    "id": "WgqQ11DDaiwL"
   },
   "source": [
    "### Get an embedding for a word"
   ]
  },
  {
   "cell_type": "code",
   "execution_count": 32,
   "metadata": {
    "colab": {
     "base_uri": "https://localhost:8080/"
    },
    "executionInfo": {
     "elapsed": 3,
     "status": "ok",
     "timestamp": 1623568910021,
     "user": {
      "displayName": "Sayan Dey",
      "photoUrl": "https://lh3.googleusercontent.com/a-/AOh14GgqVHJ9o6-7idGiRbNNd4iVc1VjzvuPnwmAnvEtD6U=s64",
      "userId": "03603580465490055794"
     },
     "user_tz": -330
    },
    "id": "FKybdCKfaiwM",
    "outputId": "340cdb45-e461-4451-b53d-f68ee90a91e0"
   },
   "outputs": [
    {
     "data": {
      "text/plain": [
       "array([-1.3748035 ,  0.40693563,  0.17694889,  1.6558163 , -1.2846459 ,\n",
       "       -1.347553  , -0.8702519 ,  2.4961493 ,  0.6487469 ,  0.47790593,\n",
       "       -0.6889029 ,  1.7646244 , -0.60635936, -1.1106366 , -0.77722454,\n",
       "       -1.0976961 ,  0.37087515,  0.354815  ,  1.1730213 ,  2.9021182 ,\n",
       "       -2.8885605 ,  0.93890285,  0.48709238,  0.02864273,  0.31310117,\n",
       "       -1.9950837 ,  1.835493  , -0.33238164,  0.8860662 , -1.1117389 ,\n",
       "        0.61216503, -0.2104881 ,  2.2876387 ,  0.66033214, -0.45275614,\n",
       "       -0.02361203,  1.3707657 ,  1.607087  , -1.8434318 , -1.3194755 ,\n",
       "       -0.642264  ,  0.883949  ,  0.3474199 ,  1.5869032 , -1.1017574 ,\n",
       "       -0.8828091 ,  0.9528602 ,  2.0473504 ,  0.5597224 ,  0.36629182,\n",
       "       -0.6778213 , -0.93309855, -1.1415274 , -1.9782115 , -0.11496329,\n",
       "       -0.373279  ,  0.78701484,  0.964797  , -0.17658205,  0.2471578 ,\n",
       "        0.847256  , -0.2285553 ,  1.7269222 ,  0.86046946,  1.2873129 ,\n",
       "       -0.35332093, -1.2887973 ,  1.0080508 ,  1.3432077 , -0.59963995,\n",
       "        0.9704101 , -0.16308752, -1.1759074 ,  0.5398262 , -0.19098862,\n",
       "       -1.2726035 , -0.1802676 ,  1.9067045 , -1.1216842 , -0.7180868 ,\n",
       "       -0.57585216,  1.8665446 , -0.5468497 , -1.7142961 , -0.11860918,\n",
       "       -0.99472666,  0.851913  , -0.36011365, -1.3549999 , -0.13284759,\n",
       "        2.0884159 ,  1.2995517 ,  1.0724065 ,  1.2834228 ,  2.0901325 ,\n",
       "       -0.22449712,  1.2436763 , -1.3482155 , -0.6314588 , -0.10466295,\n",
       "        0.34171847, -0.11736424, -2.314492  ,  0.714563  , -2.1374366 ,\n",
       "       -1.333058  , -0.41913128, -1.911332  ,  0.74450046, -1.4721282 ,\n",
       "        0.5534465 ,  0.31423506, -0.36721992,  0.64513713,  0.9313974 ,\n",
       "        0.44738424,  1.4344273 ,  1.9814664 , -0.609321  , -0.55355555,\n",
       "       -1.3500019 , -0.5409393 ,  0.65629435, -0.40939778, -1.1314706 ,\n",
       "        0.3010634 , -0.564028  ,  0.64268935,  0.44315553, -0.8744156 ,\n",
       "        0.8679533 ,  0.3586    , -0.963063  , -0.86748844, -0.29585925,\n",
       "        1.0767213 ,  0.3484661 ,  0.43141335, -0.45130855,  0.60253894,\n",
       "       -1.0689869 ,  0.9984476 , -0.7368289 ,  0.12535803,  0.3747767 ,\n",
       "        1.6872989 ,  3.6360867 , -1.8151387 , -1.3765644 , -1.0018879 ,\n",
       "       -0.41045165,  0.5697167 ,  0.6188846 ,  1.2362343 ,  0.58199376,\n",
       "        0.3005227 ,  0.2939568 ,  1.2631559 ,  0.0499986 ,  0.3114873 ,\n",
       "        0.7228705 , -0.11759509,  0.28666386,  0.01150766,  0.5076194 ,\n",
       "        1.0990322 ,  0.32822052, -0.31856066,  0.9166882 ,  0.06921213,\n",
       "        1.8180298 , -0.20380309,  1.0133985 , -0.03262016,  0.92776275,\n",
       "       -0.19853725,  0.47767   ,  0.6726624 ,  1.9431607 , -1.5453874 ,\n",
       "        0.9894075 , -0.92243975,  0.9730063 , -1.2539264 , -0.524954  ,\n",
       "        0.12689327, -2.4488645 ,  0.05809826, -0.07382588,  2.2478154 ,\n",
       "        0.16386196, -1.2735863 ,  0.5264821 , -0.02249215,  0.7777426 ,\n",
       "       -1.0760761 ,  0.70372367,  1.1086892 ,  1.2867088 , -0.05399604,\n",
       "        0.9631921 , -0.26477414, -1.3032161 ,  1.9403014 ,  0.3828319 ,\n",
       "       -0.26563466, -2.6021416 , -2.4950447 , -1.0067052 , -0.57407844,\n",
       "        1.6000762 ,  0.40317702,  0.59022677,  0.3636248 ,  0.9998373 ,\n",
       "       -0.7527897 ,  0.6149819 ,  1.4438921 , -0.0421489 ,  0.6645333 ,\n",
       "        0.71700454, -0.64184475,  0.38515595,  0.178064  , -0.24440981,\n",
       "       -0.409835  ,  1.1111875 ,  1.0805323 , -0.16622275,  1.1096734 ,\n",
       "        0.847677  , -2.0369754 , -0.14569049, -1.8112904 ,  0.16255276,\n",
       "        1.7629745 , -2.0451975 , -0.482516  ,  0.5947007 , -0.7009359 ,\n",
       "        1.7650869 , -0.53167266,  0.38529074, -0.6760099 ,  0.38539138,\n",
       "        0.20288984,  0.7960949 , -1.7402599 ,  1.1460179 , -0.50159144,\n",
       "        0.56292915, -1.1291791 , -0.26046965,  1.0595548 ,  0.94660157,\n",
       "       -0.6450408 ,  0.94964635,  0.91155404,  0.69707114,  1.5680078 ,\n",
       "        0.4596955 ,  0.49784333,  0.10600083,  2.8892117 , -1.060814  ,\n",
       "        1.5299922 , -0.9265111 ,  1.3777065 ,  0.6151161 ,  0.05357407,\n",
       "        1.592982  , -0.11847174,  1.5329684 ,  1.0661753 ,  1.35251   ,\n",
       "       -1.5851305 ,  1.2806674 ,  0.66577196,  1.0475932 , -0.09293517,\n",
       "        0.7522336 , -0.3972279 , -0.5488434 ,  0.77859986, -1.2309334 ,\n",
       "       -0.47185597, -0.80252415, -2.8563607 , -1.0243455 ,  0.5456951 ,\n",
       "       -1.5321294 ,  0.21941797,  1.0684613 , -1.8409023 ,  1.9465119 ,\n",
       "       -1.3316219 ,  0.73544246,  0.11686955,  1.5519807 ,  0.12420453],\n",
       "      dtype=float32)"
      ]
     },
     "execution_count": 32,
     "metadata": {},
     "output_type": "execute_result"
    }
   ],
   "source": [
    "model.wv['great']"
   ]
  },
  {
   "cell_type": "code",
   "execution_count": 33,
   "metadata": {
    "colab": {
     "base_uri": "https://localhost:8080/"
    },
    "executionInfo": {
     "elapsed": 616,
     "status": "ok",
     "timestamp": 1623568917083,
     "user": {
      "displayName": "Sayan Dey",
      "photoUrl": "https://lh3.googleusercontent.com/a-/AOh14GgqVHJ9o6-7idGiRbNNd4iVc1VjzvuPnwmAnvEtD6U=s64",
      "userId": "03603580465490055794"
     },
     "user_tz": -330
    },
    "id": "C0FF0naciywM",
    "outputId": "d1c569f8-961b-43ca-9416-5dc317c7df02"
   },
   "outputs": [
    {
     "data": {
      "text/plain": [
       "array([-1.9704866 ,  2.0275326 , -0.4924014 ,  0.4802158 , -0.29558533,\n",
       "       -0.6489331 ,  0.93969667,  2.1106415 , -0.3543536 ,  0.75575936,\n",
       "       -0.65854883,  1.2827026 , -0.20587799, -2.235863  ,  1.1926695 ,\n",
       "        0.06958152,  0.20748693, -0.3236101 ,  0.57620186,  0.7624651 ,\n",
       "       -1.8098365 ,  2.9703863 , -0.4788256 ,  0.8353299 , -0.03560901,\n",
       "       -1.212328  ,  2.1461914 , -0.56034744,  2.956667  , -0.6205489 ,\n",
       "       -0.1705835 ,  1.1124654 ,  1.9235274 ,  0.94449544, -1.1804732 ,\n",
       "        0.11251862,  0.582796  ,  0.2738058 , -0.19790131,  0.34085554,\n",
       "       -0.8484373 ,  0.8362351 , -1.1548775 ,  0.6066461 ,  0.43042344,\n",
       "        1.0372915 , -0.17820224,  0.5365912 , -1.127135  , -0.6205496 ,\n",
       "       -1.9730452 , -0.29284242,  0.55407596, -0.03047536, -0.43120968,\n",
       "       -0.68871284, -1.0005534 ,  0.48866707,  1.3917851 ,  0.6315337 ,\n",
       "       -0.12639649, -0.8131704 ,  3.0814626 ,  1.7588593 ,  1.8616524 ,\n",
       "        0.58225167,  0.83807224,  0.5808407 ,  0.7534169 ,  0.8642388 ,\n",
       "       -0.585146  , -0.03431312, -0.87862456,  0.6862245 ,  0.5444917 ,\n",
       "       -0.77421874,  0.9547546 ,  2.5055063 ,  1.0451142 , -0.9555512 ,\n",
       "       -1.3169204 ,  1.5847418 , -1.6890471 , -1.3907275 , -0.8337357 ,\n",
       "        0.47509924,  0.74293494,  1.0078326 ,  0.62668824,  0.11388838,\n",
       "        1.6744425 , -0.7510956 ,  0.49324214, -0.9648669 ,  2.0923104 ,\n",
       "        1.0519059 , -0.0622327 , -0.6447701 , -0.6573696 , -0.29007354,\n",
       "        1.4171537 , -0.592287  , -1.3399444 , -0.1856222 , -0.8725687 ,\n",
       "       -0.61201864, -1.2014775 , -0.9596743 ,  0.35163766, -0.15536611,\n",
       "        1.8698566 , -0.7235552 ,  0.23020865,  0.54989636, -0.7348655 ,\n",
       "        0.34817696,  1.4819148 ,  0.82356966,  1.0447285 , -0.30447146,\n",
       "        0.18590827, -0.8782849 ,  0.5131155 , -1.527371  , -1.1873221 ,\n",
       "        0.6049008 , -0.10729579,  0.3354925 ,  0.35045642,  1.1584845 ,\n",
       "        1.7646474 , -0.15524508, -1.0103358 , -0.51924515,  0.3391269 ,\n",
       "        0.35293895, -1.3908437 ,  1.9113468 , -0.5396631 , -0.6950968 ,\n",
       "       -1.629956  ,  0.24462816,  0.35234296,  1.3362366 ,  0.1967231 ,\n",
       "       -0.38186952,  1.0592866 , -0.80853385, -1.0993332 , -0.8228644 ,\n",
       "       -1.0044202 ,  0.6289564 ,  0.06888624,  1.5330162 ,  1.3008659 ,\n",
       "        0.7997884 , -0.14009503,  0.47181907, -0.00615081,  0.66007406,\n",
       "       -0.05617628,  0.02510977,  1.3888149 ,  0.3498323 , -0.380997  ,\n",
       "        0.49567196, -1.0857668 , -0.45863894,  0.20004062,  1.5386772 ,\n",
       "        1.695803  , -1.199846  ,  0.38824522,  0.19974245,  0.5316613 ,\n",
       "       -1.1532282 ,  0.59130794,  1.4476573 ,  1.8597397 , -2.3796585 ,\n",
       "       -1.1552848 , -1.159174  ,  0.22124663, -0.4534899 ,  0.9832198 ,\n",
       "        1.363813  , -1.2034929 ,  0.6556481 , -0.9470142 ,  2.6876209 ,\n",
       "       -0.09447936, -0.722718  ,  2.7250264 , -0.6364928 , -1.1795214 ,\n",
       "       -0.63641155,  1.3849368 , -0.12633452, -0.11265952, -0.62188   ,\n",
       "       -0.04283044, -0.06272006, -0.573484  ,  0.5701891 ,  0.4598923 ,\n",
       "       -2.6424782 , -3.0290904 ,  0.10259955, -0.25126228, -0.1802736 ,\n",
       "       -0.09956739,  1.2436086 , -0.02314697,  0.49801084,  0.61655337,\n",
       "        1.0256852 , -0.5670732 ,  0.3952432 ,  0.6301605 ,  0.01306962,\n",
       "        0.23790003,  1.025296  ,  1.0036876 ,  1.0855503 , -0.18715021,\n",
       "        0.10585818, -0.5146067 ,  1.1065909 ,  0.4009186 ,  1.3807473 ,\n",
       "       -0.39438686, -0.17203264, -0.90761983, -1.3955687 , -0.739769  ,\n",
       "        0.4590325 , -1.0301312 ,  0.55427927,  0.59146804,  0.0918178 ,\n",
       "        0.7415144 , -0.8321649 ,  0.37661174,  0.45009395, -0.9882257 ,\n",
       "       -0.5903295 ,  1.2531976 , -1.4610265 ,  0.6874079 ,  0.844366  ,\n",
       "       -0.04163693, -1.6425447 ,  0.16582556,  1.9187078 ,  0.88909054,\n",
       "       -0.7780703 , -0.8508777 ,  0.9237095 ,  0.01346292,  0.93536687,\n",
       "       -2.2768092 , -1.2642629 , -0.15452442,  2.4689863 , -0.7161115 ,\n",
       "        0.9508533 ,  0.3113629 ,  1.2240272 ,  0.50995797,  1.1175227 ,\n",
       "        1.0605417 ,  0.40197298,  0.6152863 ,  0.11959639,  1.5000161 ,\n",
       "        0.67108387,  0.5249578 , -0.07856505,  0.6660384 , -0.31765828,\n",
       "       -0.52990085,  0.5224191 ,  0.50194967,  0.23319572, -2.8493376 ,\n",
       "       -0.4248254 , -0.9233468 , -0.96886045, -1.9393215 ,  0.43498537,\n",
       "        0.01821117, -0.6736841 , -0.1166752 , -1.8413148 ,  2.4987226 ,\n",
       "       -0.50267   ,  2.1493921 , -1.5441114 , -0.19738525,  0.93425965],\n",
       "      dtype=float32)"
      ]
     },
     "execution_count": 33,
     "metadata": {},
     "output_type": "execute_result"
    }
   ],
   "source": [
    "model.wv['amazing']"
   ]
  },
  {
   "cell_type": "markdown",
   "metadata": {
    "id": "R1L6Z5epaiwP"
   },
   "source": [
    "### Finding Words which have similar meaning"
   ]
  },
  {
   "cell_type": "code",
   "execution_count": 40,
   "metadata": {
    "colab": {
     "base_uri": "https://localhost:8080/"
    },
    "executionInfo": {
     "elapsed": 2,
     "status": "ok",
     "timestamp": 1623568918856,
     "user": {
      "displayName": "Sayan Dey",
      "photoUrl": "https://lh3.googleusercontent.com/a-/AOh14GgqVHJ9o6-7idGiRbNNd4iVc1VjzvuPnwmAnvEtD6U=s64",
      "userId": "03603580465490055794"
     },
     "user_tz": -330
    },
    "id": "0Y93z8W0aiwR",
    "outputId": "4c39a5a7-416d-4ade-e046-19ec30bad394"
   },
   "outputs": [
    {
     "data": {
      "text/plain": [
       "[('incredible', 0.7218039035797119),\n",
       " ('awesome', 0.6939853429794312),\n",
       " ('outstanding', 0.6379446983337402),\n",
       " ('excellent', 0.6205117702484131),\n",
       " ('fantastic', 0.6204419136047363),\n",
       " ('astounding', 0.6135815978050232),\n",
       " ('exceptional', 0.6026242971420288),\n",
       " ('wonderful', 0.5866407752037048),\n",
       " ('astonishing', 0.573358416557312),\n",
       " ('great', 0.5440261363983154)]"
      ]
     },
     "execution_count": 40,
     "metadata": {},
     "output_type": "execute_result"
    }
   ],
   "source": [
    "model.wv.most_similar('amazing')"
   ]
  },
  {
   "cell_type": "markdown",
   "metadata": {
    "id": "dWKCuhkSaiwT"
   },
   "source": [
    "### Find the word which is not like others"
   ]
  },
  {
   "cell_type": "markdown",
   "metadata": {
    "id": "dMDqwhZraiwW"
   },
   "source": [
    "### Saving the model"
   ]
  },
  {
   "cell_type": "code",
   "execution_count": 42,
   "metadata": {
    "colab": {
     "base_uri": "https://localhost:8080/"
    },
    "executionInfo": {
     "elapsed": 1140,
     "status": "ok",
     "timestamp": 1623568931738,
     "user": {
      "displayName": "Sayan Dey",
      "photoUrl": "https://lh3.googleusercontent.com/a-/AOh14GgqVHJ9o6-7idGiRbNNd4iVc1VjzvuPnwmAnvEtD6U=s64",
      "userId": "03603580465490055794"
     },
     "user_tz": -330
    },
    "id": "ZMKmOZ0KaiwY",
    "outputId": "77dcabf2-e705-471c-e404-3ebb675e013b"
   },
   "outputs": [
    {
     "name": "stderr",
     "output_type": "stream",
     "text": [
      "2021-07-04 12:38:54,772 : INFO : Word2Vec lifecycle event {'fname_or_handle': 'word2vec-movie-50', 'separately': 'None', 'sep_limit': 10485760, 'ignore': frozenset(), 'datetime': '2021-07-04T12:38:54.772816', 'gensim': '4.0.1', 'python': '3.8.5 (default, Sep  3 2020, 21:29:08) [MSC v.1916 64 bit (AMD64)]', 'platform': 'Windows-10-10.0.19041-SP0', 'event': 'saving'}\n",
      "2021-07-04 12:38:54,773 : INFO : storing np array 'vectors' to word2vec-movie-50.wv.vectors.npy\n",
      "2021-07-04 12:38:54,827 : INFO : storing np array 'syn1neg' to word2vec-movie-50.syn1neg.npy\n",
      "2021-07-04 12:38:54,887 : INFO : not storing attribute cum_table\n",
      "2021-07-04 12:38:54,910 : INFO : saved word2vec-movie-50\n"
     ]
    }
   ],
   "source": [
    "model.save('word2vec-movie-50')"
   ]
  },
  {
   "cell_type": "code",
   "execution_count": 24,
   "metadata": {
    "colab": {
     "base_uri": "https://localhost:8080/"
    },
    "executionInfo": {
     "elapsed": 393,
     "status": "ok",
     "timestamp": 1623567544023,
     "user": {
      "displayName": "Sayan Dey",
      "photoUrl": "https://lh3.googleusercontent.com/a-/AOh14GgqVHJ9o6-7idGiRbNNd4iVc1VjzvuPnwmAnvEtD6U=s64",
      "userId": "03603580465490055794"
     },
     "user_tz": -330
    },
    "id": "zCnMqOVDaiwb",
    "outputId": "72dc1219-09c5-4726-ca8f-f900b8ec24ad"
   },
   "outputs": [
    {
     "name": "stderr",
     "output_type": "stream",
     "text": [
      "2021-06-13 06:59:02,429 : INFO : loading Word2Vec object from word2vec-movie-50\n",
      "2021-06-13 06:59:02,532 : INFO : loading wv recursively from word2vec-movie-50.wv.* with mmap=None\n",
      "2021-06-13 06:59:02,534 : INFO : setting ignored attribute vectors_norm to None\n",
      "2021-06-13 06:59:02,539 : INFO : loading vocabulary recursively from word2vec-movie-50.vocabulary.* with mmap=None\n",
      "2021-06-13 06:59:02,542 : INFO : loading trainables recursively from word2vec-movie-50.trainables.* with mmap=None\n",
      "2021-06-13 06:59:02,543 : INFO : setting ignored attribute cum_table to None\n",
      "2021-06-13 06:59:02,548 : INFO : loaded word2vec-movie-50\n"
     ]
    }
   ],
   "source": [
    "#Load model from memory\n",
    "model = gensim.models.Word2Vec.load('word2vec-movie-50')"
   ]
  },
  {
   "cell_type": "markdown",
   "metadata": {
    "id": "P5698UDZaiwf"
   },
   "source": [
    "1. Equation king + man = queen + ?\n",
    "2. In this case there may not be enough data for this equation"
   ]
  },
  {
   "cell_type": "code",
   "execution_count": 43,
   "metadata": {},
   "outputs": [
    {
     "data": {
      "text/plain": [
       "[('princess', 0.3559854030609131),\n",
       " ('commoner', 0.33295556902885437),\n",
       " ('camelot', 0.31230178475379944),\n",
       " ('kings', 0.3097738027572632),\n",
       " ('queen', 0.3037213385105133),\n",
       " ('throne', 0.3017286956310272),\n",
       " ('mistress', 0.30098479986190796),\n",
       " ('prince', 0.29532286524772644),\n",
       " ('flavia', 0.29517504572868347),\n",
       " ('guenevere', 0.29114076495170593)]"
      ]
     },
     "execution_count": 43,
     "metadata": {},
     "output_type": "execute_result"
    }
   ],
   "source": [
    "model.wv.most_similar(positive=['woman', 'king'], negative=['man'], topn=10)"
   ]
  },
  {
   "cell_type": "code",
   "execution_count": 44,
   "metadata": {
    "colab": {
     "base_uri": "https://localhost:8080/"
    },
    "executionInfo": {
     "elapsed": 435,
     "status": "ok",
     "timestamp": 1623568952434,
     "user": {
      "displayName": "Sayan Dey",
      "photoUrl": "https://lh3.googleusercontent.com/a-/AOh14GgqVHJ9o6-7idGiRbNNd4iVc1VjzvuPnwmAnvEtD6U=s64",
      "userId": "03603580465490055794"
     },
     "user_tz": -330
    },
    "id": "GPThj2KUQBJ8",
    "outputId": "655bf984-0341-4894-8c1d-b3125e328f70"
   },
   "outputs": [
    {
     "data": {
      "text/plain": [
       "[('heroine', 0.5597978830337524),\n",
       " ('protagonist', 0.43526992201805115),\n",
       " ('girl', 0.3650706112384796),\n",
       " ('brunette', 0.32930877804756165),\n",
       " ('fatale', 0.32776519656181335)]"
      ]
     },
     "execution_count": 44,
     "metadata": {},
     "output_type": "execute_result"
    }
   ],
   "source": [
    "model.wv.most_similar(positive=['woman', 'hero'], negative=['man'], topn=5)"
   ]
  },
  {
   "cell_type": "code",
   "execution_count": 48,
   "metadata": {},
   "outputs": [
    {
     "data": {
      "text/plain": [
       "[('daughter', 0.6057916283607483),\n",
       " ('mother', 0.5633425712585449),\n",
       " ('sister', 0.5373031497001648),\n",
       " ('wife', 0.53084796667099),\n",
       " ('mom', 0.5166723728179932),\n",
       " ('aunt', 0.5162851810455322),\n",
       " ('parents', 0.5048230886459351),\n",
       " ('grandmother', 0.5040150284767151),\n",
       " ('spouse', 0.498273104429245),\n",
       " ('mum', 0.4803133010864258)]"
      ]
     },
     "execution_count": 48,
     "metadata": {},
     "output_type": "execute_result"
    }
   ],
   "source": [
    "model.wv.most_similar(positive=['woman','father'], negative=['man'])"
   ]
  },
  {
   "cell_type": "code",
   "execution_count": 49,
   "metadata": {
    "colab": {
     "base_uri": "https://localhost:8080/"
    },
    "executionInfo": {
     "elapsed": 400,
     "status": "ok",
     "timestamp": 1623567576478,
     "user": {
      "displayName": "Sayan Dey",
      "photoUrl": "https://lh3.googleusercontent.com/a-/AOh14GgqVHJ9o6-7idGiRbNNd4iVc1VjzvuPnwmAnvEtD6U=s64",
      "userId": "03603580465490055794"
     },
     "user_tz": -330
    },
    "id": "iRBUsx0gnt-T",
    "outputId": "6fba9ed1-dfdf-43fe-94f4-a5054d25dd5c",
    "scrolled": true
   },
   "outputs": [
    {
     "data": {
      "text/plain": [
       "array([-2.2852557 ,  3.4312801 ,  3.6474965 , -1.308317  , -2.2951822 ,\n",
       "        0.89837897, -3.431485  ,  0.15043867,  2.2970724 ,  1.0535132 ,\n",
       "        0.29580843,  1.4091816 ,  1.4258128 ,  0.50019705, -0.7747109 ,\n",
       "        2.073884  , -1.5886389 ,  0.48537135, -2.189196  ,  1.3262185 ,\n",
       "        0.6093854 , -1.3228862 , -0.9547868 , -0.56881094, -0.29576302,\n",
       "        0.02925873,  0.16643918,  1.698378  , -0.9380687 ,  2.0002759 ,\n",
       "        0.14137068, -2.3957534 , -0.81501937,  1.7643278 ,  0.3247606 ,\n",
       "       -3.0619738 ,  2.9473891 ,  0.9710996 ,  1.5182089 ,  0.7880571 ,\n",
       "       -1.5941441 ,  4.163824  , -0.20149136,  2.2668216 ,  2.432766  ,\n",
       "        1.1591753 , -2.5121155 ,  2.5135255 , -1.7075282 , -4.067596  ,\n",
       "       -0.05669153, -1.6587718 , -3.1284475 ,  1.8263104 , -2.815324  ,\n",
       "       -2.9794335 ,  0.65219694, -0.43006563,  0.21741545,  1.9882355 ,\n",
       "       -0.04917753,  0.5129795 ,  1.036392  , -1.5877602 , -0.60934615,\n",
       "       -0.62659305, -2.0203156 , -0.6628905 , -1.1472855 ,  1.0110035 ,\n",
       "       -1.902932  , -2.598344  ,  0.9806946 , -0.45606098,  0.16157442,\n",
       "        1.0998926 , -2.6999474 , -1.5006049 , -6.21167   , -2.9866872 ,\n",
       "        0.82805675, -4.1367755 , -0.88464737, -1.6575251 , -0.90898144,\n",
       "       -1.8330482 , -0.88938344, -1.1403482 ,  0.04462337, -0.83370095,\n",
       "        0.27408168,  0.4217919 ,  0.09738678,  2.5398178 , -0.49325895,\n",
       "       -1.2997416 , -1.4758111 , -2.5656676 , -2.867789  ,  0.20644742,\n",
       "        0.75643677,  0.715691  , -2.276886  ,  0.8909589 ,  0.36921972,\n",
       "        1.5177076 ,  0.8955498 , -1.7434105 , -2.9592428 ,  0.5231872 ,\n",
       "       -0.69315165,  0.44135752, -1.14851   ,  3.5628188 , -1.3674235 ,\n",
       "       -0.31865346,  0.48956704,  0.11695981,  2.074689  , -0.02759635,\n",
       "        0.50348413,  3.9976137 , -0.05136928,  1.958779  ,  3.3530931 ,\n",
       "       -0.80081797,  0.31684977,  0.08213311,  1.0361364 ,  1.9374872 ,\n",
       "       -2.1377735 ,  1.5912447 , -0.7271303 ,  0.37162435,  1.1699772 ,\n",
       "        0.3802767 , -0.54866314,  0.96541166,  2.284903  ,  0.83998823,\n",
       "       -1.0311216 , -1.5384651 ,  0.4224226 ,  0.3259958 ,  0.9266955 ,\n",
       "       -2.666713  , -4.191811  , -1.5410578 , -0.91580534,  1.6658491 ,\n",
       "        1.4237866 ,  1.8817914 ,  1.3254519 , -1.7380161 ,  1.1552771 ,\n",
       "       -1.985965  , -5.2688932 , -3.9940252 ,  0.04847738, -1.1242466 ,\n",
       "        0.56328464,  1.9008465 ,  2.005155  , -1.2522812 ,  0.1574192 ,\n",
       "       -1.8368838 ,  3.5910854 ,  0.54719985, -0.06447831, -1.3721261 ,\n",
       "       -0.20455194,  2.080215  ,  0.6743064 , -0.0151751 , -2.2911413 ,\n",
       "        0.19487178, -0.7724514 ,  0.0907867 , -1.1475271 , -1.9308031 ,\n",
       "       -3.5752738 , -0.24942926, -1.9006816 , -2.4502473 ,  1.80237   ,\n",
       "       -2.1402357 ,  3.554155  ,  1.5798566 ,  0.60485345,  1.4116931 ,\n",
       "       -0.009718  ,  1.5808636 ,  2.1151628 , -2.8738532 , -2.2104096 ,\n",
       "       -3.350142  , -2.3015337 ,  0.77303773, -0.62582767, -1.138258  ,\n",
       "        2.0320742 , -0.61243296, -1.0530859 , -0.52964973, -0.26679567,\n",
       "       -1.0564744 , -1.2214015 ,  3.9229186 ,  0.8699081 , -2.8581462 ,\n",
       "       -4.2157083 , -0.8056937 , -0.7468334 , -0.3977438 ,  0.8019655 ,\n",
       "       -0.932299  ,  2.8739    , -5.0465097 , -1.9573978 , -1.6975973 ,\n",
       "        4.824215  , -0.13808632,  0.7827725 ,  2.5451696 , -0.19306862,\n",
       "        1.7378018 , -2.5151405 ,  0.55270207,  1.196335  , -2.0399284 ,\n",
       "        1.0729284 , -1.8194575 , -0.36209506,  3.3793464 ,  0.35538554,\n",
       "       -0.6776523 , -0.10852826, -0.3336209 , -1.6464651 , -0.5891739 ,\n",
       "       -4.270242  ,  0.9074373 , -1.1922503 , -3.086833  , -0.02117587,\n",
       "       -0.01611388,  2.967287  ,  0.24231064,  0.10526767,  1.4670177 ,\n",
       "       -2.690436  ,  0.28187287,  1.8252014 ,  3.0250077 , -0.9735354 ,\n",
       "       -0.5764303 , -0.21371207,  2.0148942 ,  4.8513107 , -2.5921307 ,\n",
       "       -1.6411166 ,  1.1185329 ,  1.6261575 , -0.45166755, -2.0669763 ,\n",
       "       -2.5619905 , -0.4251451 ,  1.958474  , -0.42047888,  0.2530545 ,\n",
       "       -2.6133451 , -0.2876928 ,  1.3050315 ,  2.1800575 ,  3.3018618 ,\n",
       "       -0.48569548,  2.6140525 , -1.5079894 , -0.5422487 , -2.526529  ,\n",
       "        2.4770334 ,  0.6807594 , -0.38748258, -3.6737266 ,  3.7174187 ,\n",
       "       -0.89122134, -1.2773349 , -1.3682314 ,  0.9422133 ,  0.12247467,\n",
       "        1.3344209 , -0.1988473 , -0.7657142 ,  0.39529738,  0.22798479,\n",
       "       -1.4639477 ,  2.3695655 , -2.5517132 ,  0.7434719 ,  1.7098453 ],\n",
       "      dtype=float32)"
      ]
     },
     "execution_count": 49,
     "metadata": {},
     "output_type": "execute_result"
    }
   ],
   "source": [
    "model.wv['king'] + model.wv['man'] - model.wv['queen']"
   ]
  }
 ],
 "metadata": {
  "accelerator": "GPU",
  "colab": {
   "collapsed_sections": [],
   "name": "3. Word2vec_gensim_movie_data.ipynb",
   "provenance": []
  },
  "kernelspec": {
   "display_name": "Python 3",
   "language": "python",
   "name": "python3"
  },
  "language_info": {
   "codemirror_mode": {
    "name": "ipython",
    "version": 3
   },
   "file_extension": ".py",
   "mimetype": "text/x-python",
   "name": "python",
   "nbconvert_exporter": "python",
   "pygments_lexer": "ipython3",
   "version": "3.8.5"
  }
 },
 "nbformat": 4,
 "nbformat_minor": 1
}
